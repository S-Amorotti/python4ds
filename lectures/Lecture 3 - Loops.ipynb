{
 "cells": [
  {
   "cell_type": "markdown",
   "id": "6d9eba39",
   "metadata": {},
   "source": [
    "# Introduction"
   ]
  },
  {
   "cell_type": "markdown",
   "id": "70c9d100",
   "metadata": {},
   "source": [
    "Like If/Else, a loop is a structure in programming. In this case, loops serve to repeat something, hence they are called __repetition structures__. There are a few ways of repeating something in Python. We are going to start with the basics: the for loop."
   ]
  },
  {
   "cell_type": "markdown",
   "id": "57077df3",
   "metadata": {},
   "source": [
    "## For Loop"
   ]
  },
  {
   "cell_type": "markdown",
   "id": "155dc80f",
   "metadata": {},
   "source": [
    "In Python, a ```for``` loop iterates over a sequence. Formally, any sequence can be used (as we will soon see). The most basic way of iterating through a sequence is through ```range```. For instance,"
   ]
  },
  {
   "cell_type": "code",
   "execution_count": 1,
   "id": "80004fcd",
   "metadata": {},
   "outputs": [
    {
     "name": "stdout",
     "output_type": "stream",
     "text": [
      "0\n",
      "1\n",
      "2\n",
      "3\n",
      "4\n"
     ]
    }
   ],
   "source": [
    "for i in range(5):\n",
    "    print(i)"
   ]
  },
  {
   "cell_type": "markdown",
   "id": "d4d6b50a",
   "metadata": {},
   "source": [
    "in this case, we __repeat__ ```print(i)```, where i is an integer in the range $0, \\cdots, 4$. Here, range is a function defining such a sequence. Formally, ```range()``` iterates from a start, to a stop, taking steps, like that,"
   ]
  },
  {
   "cell_type": "code",
   "execution_count": 3,
   "id": "c7e79fcb",
   "metadata": {},
   "outputs": [
    {
     "name": "stdout",
     "output_type": "stream",
     "text": [
      "2\n",
      "5\n",
      "8\n"
     ]
    }
   ],
   "source": [
    "start = 2\n",
    "stop = 10\n",
    "step = 3\n",
    "\n",
    "for i in range(start, stop, step):\n",
    "    print(i)"
   ]
  },
  {
   "cell_type": "markdown",
   "id": "61a067b9",
   "metadata": {},
   "source": [
    "here, we iterate from $2$, until $9 = 10 - 1$, taking $3$ as our step, that is, $2, 5 = 2 + 3, 8 = 5 + 3$. The iteration stops at the moment $x_{it+1} = x_{it} + 3 > stop$. Taking a closer look at ```range```, we see that it is a class on its own."
   ]
  },
  {
   "cell_type": "code",
   "execution_count": 5,
   "id": "f6eee19f",
   "metadata": {},
   "outputs": [
    {
     "name": "stdout",
     "output_type": "stream",
     "text": [
      "<class 'range'>\n"
     ]
    }
   ],
   "source": [
    "print(type(range(5)))"
   ]
  },
  {
   "cell_type": "markdown",
   "id": "700afbc2",
   "metadata": {},
   "source": [
    "Python is a bit more general, in the sense that it can iterates through anything that \"behaves like a sequence\". From the class perspective, it suffices that it implements a special function called ```__getitem__```."
   ]
  },
  {
   "cell_type": "markdown",
   "id": "02d61b20",
   "metadata": {},
   "source": [
    "## While Loop"
   ]
  },
  {
   "cell_type": "markdown",
   "id": "f13ea414",
   "metadata": {},
   "source": [
    "While loops repeat code __while__ a condition is True. For instance,"
   ]
  },
  {
   "cell_type": "code",
   "execution_count": 6,
   "id": "abc4c257",
   "metadata": {},
   "outputs": [
    {
     "name": "stdout",
     "output_type": "stream",
     "text": [
      "0\n",
      "1\n",
      "2\n",
      "3\n",
      "4\n"
     ]
    }
   ],
   "source": [
    "i = 0\n",
    "\n",
    "while i < 5:\n",
    "    print(i)\n",
    "    i += 1"
   ]
  },
  {
   "cell_type": "markdown",
   "id": "3a7aa293",
   "metadata": {},
   "source": [
    "does the same thing as ```for i in range(5)```. This may be useful if you want to loop code until a condition is met."
   ]
  },
  {
   "cell_type": "markdown",
   "id": "bc44f618",
   "metadata": {},
   "source": [
    "## Breaking loops"
   ]
  },
  {
   "cell_type": "markdown",
   "id": "8dd8f907",
   "metadata": {},
   "source": [
    "During the execution of a loop, you may want to break execution before the loop is complete. For instance,"
   ]
  },
  {
   "cell_type": "code",
   "execution_count": 10,
   "id": "664361e8",
   "metadata": {},
   "outputs": [
    {
     "name": "stdout",
     "output_type": "stream",
     "text": [
      "0.2\n",
      "0.25\n",
      "0.3333333333333333\n",
      "0.5\n",
      "1.0\n",
      "Loop was broke at i = 0\n"
     ]
    }
   ],
   "source": [
    "for i in range(5, -5, -1):\n",
    "    try:\n",
    "        print(1 / i)\n",
    "    except ZeroDivisionError:\n",
    "        break\n",
    "print(f\"Loop was broke at i = {i}\")"
   ]
  },
  {
   "cell_type": "markdown",
   "id": "f111c58f",
   "metadata": {},
   "source": [
    "the same idea holds for While loops,"
   ]
  },
  {
   "cell_type": "code",
   "execution_count": 12,
   "id": "cb32bcbf",
   "metadata": {},
   "outputs": [
    {
     "name": "stdout",
     "output_type": "stream",
     "text": [
      "0.2\n",
      "0.25\n",
      "0.3333333333333333\n",
      "0.5\n",
      "1.0\n",
      "Loop was broke at i = 0\n"
     ]
    }
   ],
   "source": [
    "i = 5\n",
    "\n",
    "while i > -5:\n",
    "    try:\n",
    "        print(1 / i)\n",
    "    except ZeroDivisionError:\n",
    "        break\n",
    "    i -= 1\n",
    "print(f\"Loop was broke at i = {i}\")"
   ]
  },
  {
   "cell_type": "markdown",
   "id": "4001ce9f",
   "metadata": {},
   "source": [
    "## Looping over data structures"
   ]
  },
  {
   "cell_type": "markdown",
   "id": "45fee8d7",
   "metadata": {},
   "source": [
    "In Python, you can directly iterate over the elements of any sequence. For instance,"
   ]
  },
  {
   "cell_type": "code",
   "execution_count": 13,
   "id": "58f24b14",
   "metadata": {},
   "outputs": [],
   "source": [
    "primes = [2, 3, 5, 7, 11]"
   ]
  },
  {
   "cell_type": "code",
   "execution_count": 14,
   "id": "3b0db0c9",
   "metadata": {},
   "outputs": [
    {
     "name": "stdout",
     "output_type": "stream",
     "text": [
      "Index 0, Element: 2\n",
      "Index 1, Element: 3\n",
      "Index 2, Element: 5\n",
      "Index 3, Element: 7\n",
      "Index 4, Element: 11\n"
     ]
    }
   ],
   "source": [
    "for i in range(len(primes)):\n",
    "    print(f\"Index {i}, Element: {primes[i]}\")"
   ]
  },
  {
   "cell_type": "markdown",
   "id": "404cd737",
   "metadata": {},
   "source": [
    "A more readable way to do it would be,"
   ]
  },
  {
   "cell_type": "code",
   "execution_count": 15,
   "id": "41857f9b",
   "metadata": {},
   "outputs": [
    {
     "name": "stdout",
     "output_type": "stream",
     "text": [
      "Element: 2\n",
      "Element: 3\n",
      "Element: 5\n",
      "Element: 7\n",
      "Element: 11\n"
     ]
    }
   ],
   "source": [
    "for p in primes:\n",
    "    print(f\"Element: {p}\")"
   ]
  },
  {
   "cell_type": "markdown",
   "id": "63ff6eae",
   "metadata": {},
   "source": [
    "and if you want the index,"
   ]
  },
  {
   "cell_type": "code",
   "execution_count": 16,
   "id": "a2615325",
   "metadata": {},
   "outputs": [
    {
     "name": "stdout",
     "output_type": "stream",
     "text": [
      "Index 0, Element: 2\n",
      "Index 1, Element: 3\n",
      "Index 2, Element: 5\n",
      "Index 3, Element: 7\n",
      "Index 4, Element: 11\n"
     ]
    }
   ],
   "source": [
    "for i, p in enumerate(primes):\n",
    "    print(f\"Index {i}, Element: {p}\")"
   ]
  },
  {
   "cell_type": "markdown",
   "id": "efb426ef",
   "metadata": {},
   "source": [
    "The ```enumerate``` function takes a sequence and returns you a new iterator. This new iterator will return a tuple ```(i, iterator_result_i)```."
   ]
  },
  {
   "cell_type": "markdown",
   "id": "7e588e0f",
   "metadata": {},
   "source": [
    "__Note.__ You can apply the same approach to other data structures, such as,"
   ]
  },
  {
   "cell_type": "code",
   "execution_count": 17,
   "id": "d8786439",
   "metadata": {},
   "outputs": [
    {
     "name": "stdout",
     "output_type": "stream",
     "text": [
      "2\n",
      "3\n",
      "5\n",
      "7\n",
      "11\n"
     ]
    }
   ],
   "source": [
    "my_tuple = (2, 3, 5, 7, 11)\n",
    "\n",
    "for p in my_tuple:\n",
    "    print(p)"
   ]
  },
  {
   "cell_type": "code",
   "execution_count": 18,
   "id": "8439fb76",
   "metadata": {},
   "outputs": [
    {
     "name": "stdout",
     "output_type": "stream",
     "text": [
      "2\n",
      "3\n",
      "5\n",
      "7\n",
      "11\n"
     ]
    }
   ],
   "source": [
    "my_set = {2, 3, 5, 7, 11}\n",
    "\n",
    "for p in my_set:\n",
    "    print(p)"
   ]
  },
  {
   "cell_type": "markdown",
   "id": "18b57cc4",
   "metadata": {},
   "source": [
    "with dictionaries, things are a little bit more complicated. Since the dictionary is composed by a correspondence $key \\mapsto value$, the loop is actually done through the keys,"
   ]
  },
  {
   "cell_type": "code",
   "execution_count": 20,
   "id": "9ffb92db",
   "metadata": {},
   "outputs": [
    {
     "name": "stdout",
     "output_type": "stream",
     "text": [
      "prime1 2\n",
      "prime2 3\n",
      "prime3 5\n",
      "prime4 7\n",
      "prime5 11\n"
     ]
    }
   ],
   "source": [
    "my_dict = {\n",
    "    'prime1': 2, \n",
    "    'prime2': 3, \n",
    "    'prime3': 5, \n",
    "    'prime4': 7, \n",
    "    'prime5': 11}\n",
    "\n",
    "for k in my_dict:\n",
    "    print(k, my_dict[k])"
   ]
  },
  {
   "cell_type": "markdown",
   "id": "5cfd8a77",
   "metadata": {},
   "source": [
    "you could also loop through both using ```.items()```,"
   ]
  },
  {
   "cell_type": "code",
   "execution_count": 23,
   "id": "47876100",
   "metadata": {},
   "outputs": [
    {
     "name": "stdout",
     "output_type": "stream",
     "text": [
      "prime1 2\n",
      "prime2 3\n",
      "prime3 5\n",
      "prime4 7\n",
      "prime5 11\n"
     ]
    }
   ],
   "source": [
    "for k, v in my_dict.items():\n",
    "    print(k, v)"
   ]
  },
  {
   "cell_type": "markdown",
   "id": "3c3453bc",
   "metadata": {},
   "source": [
    "## List Comprehension"
   ]
  },
  {
   "cell_type": "markdown",
   "id": "696fd3f8",
   "metadata": {},
   "source": [
    "Python further allows you to integrate loops and lists in what is known as __list comprehension__. For example, let's say that you want to filter a list,"
   ]
  },
  {
   "cell_type": "code",
   "execution_count": 25,
   "id": "dd7b0eda",
   "metadata": {},
   "outputs": [
    {
     "name": "stdout",
     "output_type": "stream",
     "text": [
      "['apple', 'banana', 'mango']\n"
     ]
    }
   ],
   "source": [
    "fruit_basket = ['apple', 'banana', 'cherry', 'kiwi', 'mango']\n",
    "my_basket = []\n",
    "\n",
    "for fruit in fruit_basket:\n",
    "    if 'a' in fruit:\n",
    "        my_basket.append(fruit)\n",
    "\n",
    "print(my_basket)"
   ]
  },
  {
   "cell_type": "markdown",
   "id": "1bc80ff3",
   "metadata": {},
   "source": [
    "you could actually do this in 1 line,"
   ]
  },
  {
   "cell_type": "code",
   "execution_count": 27,
   "id": "d7267d2b",
   "metadata": {},
   "outputs": [
    {
     "name": "stdout",
     "output_type": "stream",
     "text": [
      "['apple', 'banana', 'mango']\n"
     ]
    }
   ],
   "source": [
    "my_basket = [\n",
    "    fruit for fruit in fruit_basket if 'a' in fruit\n",
    "]\n",
    "\n",
    "print(my_basket)"
   ]
  },
  {
   "cell_type": "markdown",
   "id": "f41d540d",
   "metadata": {},
   "source": [
    "list comprehension works like this,\n",
    "\n",
    "```python\n",
    "newlist = [expression for item in interable if condtition == True]\n",
    "```"
   ]
  }
 ],
 "metadata": {
  "kernelspec": {
   "display_name": "Python 3 (ipykernel)",
   "language": "python",
   "name": "python3"
  },
  "language_info": {
   "codemirror_mode": {
    "name": "ipython",
    "version": 3
   },
   "file_extension": ".py",
   "mimetype": "text/x-python",
   "name": "python",
   "nbconvert_exporter": "python",
   "pygments_lexer": "ipython3",
   "version": "3.9.13"
  }
 },
 "nbformat": 4,
 "nbformat_minor": 5
}
