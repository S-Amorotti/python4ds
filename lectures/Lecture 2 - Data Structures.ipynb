{
 "cells": [
  {
   "cell_type": "markdown",
   "id": "29228f44",
   "metadata": {},
   "source": [
    "# Introduction"
   ]
  },
  {
   "cell_type": "markdown",
   "id": "bfbc487b",
   "metadata": {},
   "source": [
    "In this lecture, we are going to introduce __data structures__ and the basic data structures available in Python. Especifically, we are going to cover,\n",
    "\n",
    "- Tuples,\n",
    "- Lists,\n",
    "- Sets,\n",
    "- Dictionaries"
   ]
  },
  {
   "cell_type": "markdown",
   "id": "8eb08295",
   "metadata": {},
   "source": [
    "__Note.__ Elements of this lecture were inspired by the tutorials,\n",
    "\n",
    "- [Tuples](https://www.w3schools.com/python/python_tuples.asp)\n",
    "- [Lists](https://www.w3schools.com/python/python_lists.asp)\n",
    "- [Sets](https://www.w3schools.com/python/python_sets.asp)\n",
    "- [Dictionaries](https://www.w3schools.com/python/python_dictionaries.asp)"
   ]
  },
  {
   "cell_type": "markdown",
   "id": "35f9ba02",
   "metadata": {},
   "source": [
    "## Overview"
   ]
  },
  {
   "cell_type": "markdown",
   "id": "bc7c98ae",
   "metadata": {},
   "source": [
    "| Data Structure | Changeable | Ordered | Indexed | Allow Duplicates |\n",
    "|----------------|------------|---------|---------|------------------|\n",
    "| Set           | <i class=\"fa fa-times\" aria-hidden=\"true\"></i>* | <i class=\"fa fa-times\" aria-hidden=\"true\"></i>  | <i class=\"fa fa-times\" aria-hidden=\"true\"></i> |<i class=\"fa fa-times\" aria-hidden=\"true\"></i> |\n",
    "| Tuple           | <i class=\"fa fa-times\" aria-hidden=\"true\"></i> | <i class=\"fa fa-check\" aria-hidden=\"true\"></i>  | <i class=\"fa fa-check\" aria-hidden=\"true\"></i> | <i class=\"fa fa-check\" aria-hidden=\"true\"></i> |\n",
    "| List           | <i class=\"fa fa-check\" aria-hidden=\"true\"></i> | <i class=\"fa fa-check\" aria-hidden=\"true\"></i>  | <i class=\"fa fa-check\" aria-hidden=\"true\"></i> | <i class=\"fa fa-check\" aria-hidden=\"true\"></i> |\n",
    "| Dictionary           | <i class=\"fa fa-check\" aria-hidden=\"true\"></i> | <i class=\"fa fa-check\" aria-hidden=\"true\"></i>*  | <i class=\"fa fa-check\" aria-hidden=\"true\"></i>* | <i class=\"fa fa-times\" aria-hidden=\"true\"></i> |"
   ]
  },
  {
   "cell_type": "markdown",
   "id": "a6f31a6d",
   "metadata": {},
   "source": [
    "## What are Data Structures?"
   ]
  },
  {
   "cell_type": "markdown",
   "id": "087445c3",
   "metadata": {},
   "source": [
    "__Definition.__ (From [Wikipedia](https://en.wikipedia.org/wiki/Data_structure)) In computer science, a data structure is a data organization, management, and storage format that is usually chosen for efficient access to data.\n",
    "\n",
    "Usually, data structures are a way to organize or group data. In Python, they play a key role in different aspects of the language. As we will see later on, lists can be used for iteration or to pass arguments for a function. Next, we will define each type elementary data structure, as well as its usage.\n",
    "\n",
    "In computer science, data structures are studied theoretically. If you are curious about these, you can take a look in Cormen's textbook, oftentimes called the Bible of algorithms:\n",
    "\n",
    "[1] Cormen, T. H., Leiserson, C. E., Rivest, R. L., & Stein, C. (2022). [Introduction to algorithms](http://mitpress.mit.edu/9780262046305/introduction-to-algorithms/). MIT press."
   ]
  },
  {
   "cell_type": "markdown",
   "id": "b4f56c13",
   "metadata": {},
   "source": [
    "the following data structures are used for storing multiple items in a single variable."
   ]
  },
  {
   "cell_type": "markdown",
   "id": "303d0b80",
   "metadata": {},
   "source": [
    "# Sets"
   ]
  },
  {
   "cell_type": "markdown",
   "id": "ac6f9055",
   "metadata": {},
   "source": [
    "Sets are the most restrictive data structure in Python. You can declare them through curly brackets,"
   ]
  },
  {
   "cell_type": "code",
   "execution_count": 44,
   "id": "bc89a408",
   "metadata": {},
   "outputs": [
    {
     "name": "stdout",
     "output_type": "stream",
     "text": [
      "{2, 4, 6}\n"
     ]
    }
   ],
   "source": [
    "even_numbers = {2, 4, 6}\n",
    "print(even_numbers)"
   ]
  },
  {
   "cell_type": "markdown",
   "id": "4430c645",
   "metadata": {},
   "source": [
    "## Properties"
   ]
  },
  {
   "cell_type": "markdown",
   "id": "e9750090",
   "metadata": {},
   "source": [
    "### Sets are unordered"
   ]
  },
  {
   "cell_type": "markdown",
   "id": "f22f9b3c",
   "metadata": {},
   "source": [
    "First, note that sets do not support indexing,"
   ]
  },
  {
   "cell_type": "code",
   "execution_count": 45,
   "id": "5e8caa4a",
   "metadata": {},
   "outputs": [
    {
     "ename": "TypeError",
     "evalue": "'set' object is not subscriptable",
     "output_type": "error",
     "traceback": [
      "\u001b[0;31m---------------------------------------------------------------------------\u001b[0m",
      "\u001b[0;31mTypeError\u001b[0m                                 Traceback (most recent call last)",
      "Cell \u001b[0;32mIn[45], line 1\u001b[0m\n\u001b[0;32m----> 1\u001b[0m \u001b[43meven_numbers\u001b[49m\u001b[43m[\u001b[49m\u001b[38;5;241;43m0\u001b[39;49m\u001b[43m]\u001b[49m\n",
      "\u001b[0;31mTypeError\u001b[0m: 'set' object is not subscriptable"
     ]
    }
   ],
   "source": [
    "even_numbers[0]"
   ]
  },
  {
   "cell_type": "markdown",
   "id": "06d39e8e",
   "metadata": {},
   "source": [
    "that is, you do not have \"a first\" element."
   ]
  },
  {
   "cell_type": "markdown",
   "id": "b778c3bb",
   "metadata": {},
   "source": [
    "## Sets are unchangeable*"
   ]
  },
  {
   "cell_type": "markdown",
   "id": "7466ccdc",
   "metadata": {},
   "source": [
    "Since sets do not allow indexing, one cannot change the elements that are inside, that is, you cannot substitute a value for another in a set.\n",
    "\n",
    "There is a workaround for changing the elements of a set, through the methods ```.add``` and ```.remove```, for instance,"
   ]
  },
  {
   "cell_type": "code",
   "execution_count": 46,
   "id": "40f56441",
   "metadata": {},
   "outputs": [
    {
     "name": "stdout",
     "output_type": "stream",
     "text": [
      "{4, 6}\n"
     ]
    }
   ],
   "source": [
    "even_numbers.remove(2)\n",
    "print(even_numbers)"
   ]
  },
  {
   "cell_type": "code",
   "execution_count": 47,
   "id": "21d5f743",
   "metadata": {},
   "outputs": [
    {
     "name": "stdout",
     "output_type": "stream",
     "text": [
      "{8, 4, 6}\n"
     ]
    }
   ],
   "source": [
    "even_numbers.add(8)\n",
    "print(even_numbers)"
   ]
  },
  {
   "cell_type": "markdown",
   "id": "3c2ce049",
   "metadata": {},
   "source": [
    "### Sets do not allow duplicates"
   ]
  },
  {
   "cell_type": "markdown",
   "id": "12b4e7ae",
   "metadata": {},
   "source": [
    "a defining properties of sets is that they do not allow duplicates. For instance,"
   ]
  },
  {
   "cell_type": "code",
   "execution_count": 49,
   "id": "6db62eab",
   "metadata": {},
   "outputs": [
    {
     "name": "stdout",
     "output_type": "stream",
     "text": [
      "{2, 4, 6}\n"
     ]
    }
   ],
   "source": [
    "even_numbers = {2, 2, 4, 6}\n",
    "print(even_numbers)"
   ]
  },
  {
   "cell_type": "markdown",
   "id": "1ae5fdde",
   "metadata": {},
   "source": [
    "even though we declared 2 twice inside the set, it is suppressed. This property can be very interesting when one wants to find unique elements in other data structures."
   ]
  },
  {
   "cell_type": "markdown",
   "id": "0e0e3764",
   "metadata": {},
   "source": [
    "### Length"
   ]
  },
  {
   "cell_type": "markdown",
   "id": "80e38db7",
   "metadata": {},
   "source": [
    "An important property of Python data structures is how many elements are in a data structure. You can access this through ```len```,"
   ]
  },
  {
   "cell_type": "code",
   "execution_count": 51,
   "id": "03fb2383",
   "metadata": {},
   "outputs": [
    {
     "name": "stdout",
     "output_type": "stream",
     "text": [
      "{2, 4, 6}\n",
      "3\n"
     ]
    }
   ],
   "source": [
    "print(even_numbers)\n",
    "print(len(even_numbers))"
   ]
  },
  {
   "cell_type": "markdown",
   "id": "61021b80",
   "metadata": {},
   "source": [
    "that is, ```len``` takes the set ```{2, 4, 6}``` and returns ```3```, i.e., the integer corresponding to the number of elements in the set."
   ]
  },
  {
   "cell_type": "markdown",
   "id": "805f04df",
   "metadata": {},
   "source": [
    "## Set Methods"
   ]
  },
  {
   "cell_type": "markdown",
   "id": "722f0c33",
   "metadata": {},
   "source": [
    "__Element Operation.__ Concerns adding/removing elements from a set. These are,\n",
    "\n",
    "- ```.add(element)```: Adds element to the set\n",
    "- ```.pop()```: Removes an element from the set\n",
    "- ```.remove(element)```: Removes a specific element from the set"
   ]
  },
  {
   "cell_type": "code",
   "execution_count": 4,
   "id": "a99e0c59",
   "metadata": {},
   "outputs": [
    {
     "name": "stdout",
     "output_type": "stream",
     "text": [
      "{2, 3, 5, 7}\n"
     ]
    }
   ],
   "source": [
    "primes = {2, 3, 5}\n",
    "\n",
    "primes.add(7)\n",
    "\n",
    "print(primes)"
   ]
  },
  {
   "cell_type": "markdown",
   "id": "475e0d70",
   "metadata": {},
   "source": [
    "__Note.__ A set will ignore the ```.add(element)``` if element already belongs to th set,"
   ]
  },
  {
   "cell_type": "code",
   "execution_count": 5,
   "id": "9598b4c8",
   "metadata": {},
   "outputs": [
    {
     "name": "stdout",
     "output_type": "stream",
     "text": [
      "{2, 3, 5}\n"
     ]
    }
   ],
   "source": [
    "primes = {2, 3, 5}\n",
    "primes.add(5)\n",
    "print(primes)"
   ]
  },
  {
   "cell_type": "code",
   "execution_count": 7,
   "id": "d704f7cb",
   "metadata": {},
   "outputs": [
    {
     "name": "stdout",
     "output_type": "stream",
     "text": [
      "{3, 5} 2\n"
     ]
    }
   ],
   "source": [
    "primes = {2, 3, 5}\n",
    "elem = primes.pop()\n",
    "print(primes, elem)"
   ]
  },
  {
   "cell_type": "markdown",
   "id": "66ca06a6",
   "metadata": {},
   "source": [
    "__Note.__ It will be recurring throughout this lecture that ```.pop()``` _returns a value_. This notion will become more clear in upcoming lectures."
   ]
  },
  {
   "cell_type": "code",
   "execution_count": 8,
   "id": "23afb4ff",
   "metadata": {},
   "outputs": [
    {
     "name": "stdout",
     "output_type": "stream",
     "text": [
      "{3, 5}\n"
     ]
    }
   ],
   "source": [
    "primes = {2, 3, 5}\n",
    "primes.remove(2)\n",
    "\n",
    "print(primes)"
   ]
  },
  {
   "cell_type": "code",
   "execution_count": 9,
   "id": "c6dbabcc",
   "metadata": {},
   "outputs": [
    {
     "ename": "KeyError",
     "evalue": "1",
     "output_type": "error",
     "traceback": [
      "\u001b[0;31m---------------------------------------------------------------------------\u001b[0m",
      "\u001b[0;31mKeyError\u001b[0m                                  Traceback (most recent call last)",
      "Cell \u001b[0;32mIn[9], line 2\u001b[0m\n\u001b[1;32m      1\u001b[0m primes \u001b[38;5;241m=\u001b[39m {\u001b[38;5;241m2\u001b[39m, \u001b[38;5;241m3\u001b[39m, \u001b[38;5;241m5\u001b[39m}\n\u001b[0;32m----> 2\u001b[0m \u001b[43mprimes\u001b[49m\u001b[38;5;241;43m.\u001b[39;49m\u001b[43mremove\u001b[49m\u001b[43m(\u001b[49m\u001b[38;5;241;43m1\u001b[39;49m\u001b[43m)\u001b[49m\n\u001b[1;32m      4\u001b[0m \u001b[38;5;28mprint\u001b[39m(primes)\n",
      "\u001b[0;31mKeyError\u001b[0m: 1"
     ]
    }
   ],
   "source": [
    "primes = {2, 3, 5}\n",
    "primes.remove(1)\n",
    "\n",
    "print(primes)"
   ]
  },
  {
   "cell_type": "markdown",
   "id": "080a9850",
   "metadata": {},
   "source": [
    "__Note.__ ```.remove(element)``` will throw you an exception in case ```element``` does not belong to the set. This exception is ```KeyError```, which is usually threw when you try to access an element that is not present in a set."
   ]
  },
  {
   "cell_type": "code",
   "execution_count": 11,
   "id": "32debaee",
   "metadata": {},
   "outputs": [
    {
     "name": "stdout",
     "output_type": "stream",
     "text": [
      "{3, 5}\n"
     ]
    }
   ],
   "source": [
    "primes = {2, 3, 5}\n",
    "primes.discard(2)\n",
    "\n",
    "print(primes)"
   ]
  },
  {
   "cell_type": "code",
   "execution_count": 12,
   "id": "5cf457e0",
   "metadata": {},
   "outputs": [
    {
     "name": "stdout",
     "output_type": "stream",
     "text": [
      "{2, 3, 5}\n"
     ]
    }
   ],
   "source": [
    "primes = {2, 3, 5}\n",
    "primes.discard(1)\n",
    "\n",
    "print(primes)"
   ]
  },
  {
   "cell_type": "markdown",
   "id": "bb303149",
   "metadata": {},
   "source": [
    "__Note.__ Unlike ```.remove```, ```.discard(element)``` will not throw an exception when ```element``` does not belong to the set."
   ]
  },
  {
   "cell_type": "markdown",
   "id": "ab88d64a",
   "metadata": {},
   "source": [
    "__Memory.__ Concerns low-level memory operations,\n",
    "\n",
    "- ```.copy()```: Returns a copy of the set\n",
    "\n",
    "We cover in more detail ```.copy()``` for lists. The overall purpose of this method is shared by lists, sets and tuples."
   ]
  },
  {
   "cell_type": "markdown",
   "id": "89df9a84",
   "metadata": {},
   "source": [
    "__Set Theory.__ Concerns methods related to set theory, such as union, intersection and difference,\n",
    "\n",
    "- ```.union(set2)```: Returns the union of two sets, $set_{1} \\cup set_{2}$\n",
    "- ```.intersection(set2)```: Returns the intersection of two sets $set_{1} \\cap set_{2}$\n",
    "- ```.update(set2)```: In-place version of ```.union```\n",
    "- ```.intersection_update(set2)```:  In-place version of ```.intersection```\n",
    "- ```.issubset(set2)```: Evaluates the inclusion $set_{2} \\subset set_{1}$\n",
    "- ```.issuperset(set2)```: Evaluates the inclusion $set_{1} \\subset set_{2}$\n",
    "- ```.isdisjoint(set2)```: Evaluates whether $set_{1} \\cap set_{2} = \\emptyset$\n"
   ]
  },
  {
   "cell_type": "code",
   "execution_count": 14,
   "id": "52854560",
   "metadata": {},
   "outputs": [
    {
     "name": "stdout",
     "output_type": "stream",
     "text": [
      "{'a', 1, 2, 3, 'c', 'b'}\n"
     ]
    }
   ],
   "source": [
    "set1 = {1, 2, 3}\n",
    "set2 = {'a', 'b', 'c'}\n",
    "set3 = set1.union(set2)\n",
    "\n",
    "print(set3)"
   ]
  },
  {
   "cell_type": "code",
   "execution_count": 16,
   "id": "c554ab49",
   "metadata": {},
   "outputs": [
    {
     "name": "stdout",
     "output_type": "stream",
     "text": [
      "{2}\n"
     ]
    }
   ],
   "source": [
    "set1 = {1, 2, 3}\n",
    "set2 = {2, 4, 6}\n",
    "set3 = set1.intersection(set2)\n",
    "\n",
    "print(set3)"
   ]
  },
  {
   "cell_type": "markdown",
   "id": "3b8eed5a",
   "metadata": {},
   "source": [
    "__In-place Operations.__ In Python, suppose you want to perform an operation between two variables, for instance, ```x``` and ```y```. When you store this operation inside one of these variables, say, ```x```, you are performing an __in-place__. [The meaning of __in-place__ is as follows](https://dictionary.cambridge.org/dictionary/english/in-place),\n",
    "\n",
    "> \"(of running or jumping) in one place without moving forward or backward at all\"\n",
    "\n",
    "so, the idea is that you perform the operation without moving values around. This means that you substitute the value of ```x``` for the value of ```op(x, y)```.\n",
    "\n",
    "Examples of in-place operations are ```update``` and ```intersection_update```, as follows,"
   ]
  },
  {
   "cell_type": "code",
   "execution_count": 17,
   "id": "487a7515",
   "metadata": {},
   "outputs": [
    {
     "name": "stdout",
     "output_type": "stream",
     "text": [
      "{'a', 1, 2, 3, 'c', 'b'}\n"
     ]
    }
   ],
   "source": [
    "set1 = {1, 2, 3}\n",
    "set2 = {'a', 'b', 'c'}\n",
    "set1.update(set2)\n",
    "\n",
    "print(set1)"
   ]
  },
  {
   "cell_type": "code",
   "execution_count": 19,
   "id": "021e6103",
   "metadata": {},
   "outputs": [
    {
     "name": "stdout",
     "output_type": "stream",
     "text": [
      "{2}\n"
     ]
    }
   ],
   "source": [
    "set1 = {1, 2, 3}\n",
    "set2 = {2, 4, 6}\n",
    "set1.intersection_update(set2)\n",
    "\n",
    "print(set1)"
   ]
  },
  {
   "cell_type": "code",
   "execution_count": 23,
   "id": "4974e454",
   "metadata": {},
   "outputs": [
    {
     "name": "stdout",
     "output_type": "stream",
     "text": [
      "False\n",
      "True\n",
      "False\n"
     ]
    }
   ],
   "source": [
    "set1 = {1, 2, 3, 4, 5, 6}\n",
    "set2 = {2, 4, 6}\n",
    "\n",
    "print(set1.issubset(set2))\n",
    "print(set1.issuperset(set2))\n",
    "print(set1.isdisjoint(set2))"
   ]
  },
  {
   "cell_type": "markdown",
   "id": "4c4f9715",
   "metadata": {},
   "source": [
    "# Tuples"
   ]
  },
  {
   "cell_type": "markdown",
   "id": "38a8c5bb",
   "metadata": {},
   "source": [
    "Let us start with an example of a tuple. You can declare them through round brackets. Let's say you want to store the first 3 primes as such,"
   ]
  },
  {
   "cell_type": "code",
   "execution_count": 1,
   "id": "6c76062c",
   "metadata": {},
   "outputs": [
    {
     "name": "stdout",
     "output_type": "stream",
     "text": [
      "(2, 3, 5)\n"
     ]
    }
   ],
   "source": [
    "first_three_primes = (2, 3, 5)\n",
    "print(first_three_primes)"
   ]
  },
  {
   "cell_type": "markdown",
   "id": "76a2d98a",
   "metadata": {},
   "source": [
    "you can access items in a tuple via their indices. For instance,"
   ]
  },
  {
   "cell_type": "code",
   "execution_count": 2,
   "id": "66685a03",
   "metadata": {},
   "outputs": [
    {
     "name": "stdout",
     "output_type": "stream",
     "text": [
      "2\n"
     ]
    }
   ],
   "source": [
    "print(first_three_primes[0])"
   ]
  },
  {
   "cell_type": "markdown",
   "id": "9cbd4d57",
   "metadata": {},
   "source": [
    "the items in a tuple are said to be __indexed__, that is, they can be access via their corresponding index, relative to their order in the tuple definition."
   ]
  },
  {
   "cell_type": "markdown",
   "id": "24a93606",
   "metadata": {},
   "source": [
    "__Note.__ Tuples can hold items from different types,"
   ]
  },
  {
   "cell_type": "code",
   "execution_count": 6,
   "id": "3b233e21",
   "metadata": {},
   "outputs": [],
   "source": [
    "wild_tuple = ('a', 1, 'b', 1 + 1j, 'c', 1.5)"
   ]
  },
  {
   "cell_type": "code",
   "execution_count": 8,
   "id": "bf70f09f",
   "metadata": {},
   "outputs": [
    {
     "name": "stdout",
     "output_type": "stream",
     "text": [
      "('a', 1, 'b', (1+1j), 'c', 1.5)\n"
     ]
    }
   ],
   "source": [
    "print(wild_tuple)"
   ]
  },
  {
   "cell_type": "markdown",
   "id": "917add59",
   "metadata": {},
   "source": [
    "__Syntax Remark.__ When creating tuples, you should be careful with a tricky case. When a tuple has a single element, Python demands us to specify it like,"
   ]
  },
  {
   "cell_type": "code",
   "execution_count": 10,
   "id": "57d3160d",
   "metadata": {},
   "outputs": [
    {
     "name": "stdout",
     "output_type": "stream",
     "text": [
      "(1,)\n"
     ]
    }
   ],
   "source": [
    "why_is_this_a_tuple = (1,)\n",
    "print(why_is_this_a_tuple)"
   ]
  },
  {
   "cell_type": "markdown",
   "id": "65ad400a",
   "metadata": {},
   "source": [
    "otherwise, you will not be declaring a tuple,"
   ]
  },
  {
   "cell_type": "code",
   "execution_count": 11,
   "id": "39718098",
   "metadata": {},
   "outputs": [
    {
     "name": "stdout",
     "output_type": "stream",
     "text": [
      "1\n"
     ]
    }
   ],
   "source": [
    "ceci_nest_pas_une_tuple = (1)\n",
    "print(ceci_nest_pas_une_tuple)"
   ]
  },
  {
   "cell_type": "markdown",
   "id": "50319f17",
   "metadata": {},
   "source": [
    "__But why?__ This seemingly annoying behavior comes from Python assignment rules. You can use tuple notation to assign values to multiple variables. This makes the (beautiful?) one-liner,"
   ]
  },
  {
   "cell_type": "code",
   "execution_count": 12,
   "id": "3e5192d2",
   "metadata": {},
   "outputs": [
    {
     "name": "stdout",
     "output_type": "stream",
     "text": [
      "1\n",
      "2\n",
      "3\n"
     ]
    }
   ],
   "source": [
    "a, b, c = (1, 2, 3)\n",
    "\n",
    "print(a)\n",
    "print(b)\n",
    "print(c)"
   ]
  },
  {
   "cell_type": "markdown",
   "id": "4e9d039b",
   "metadata": {},
   "source": [
    "so, when there are only 1 item on the left hand side and on the right hand side of assignment, you get this weird equivalence:"
   ]
  },
  {
   "cell_type": "code",
   "execution_count": 14,
   "id": "0ccab1a5",
   "metadata": {},
   "outputs": [
    {
     "name": "stdout",
     "output_type": "stream",
     "text": [
      "True\n"
     ]
    }
   ],
   "source": [
    "print(1 == (1))"
   ]
  },
  {
   "cell_type": "markdown",
   "id": "76c85319",
   "metadata": {},
   "source": [
    "whereas..."
   ]
  },
  {
   "cell_type": "code",
   "execution_count": 15,
   "id": "6acc0238",
   "metadata": {},
   "outputs": [
    {
     "name": "stdout",
     "output_type": "stream",
     "text": [
      "False\n"
     ]
    }
   ],
   "source": [
    "print(1 == (1,))"
   ]
  },
  {
   "cell_type": "markdown",
   "id": "f26d53a5",
   "metadata": {},
   "source": [
    "__Note.__ There are more than one way to declare a tuple. Another way would be to use the ```tuple()``` constructor."
   ]
  },
  {
   "cell_type": "code",
   "execution_count": 18,
   "id": "1868d6a0",
   "metadata": {},
   "outputs": [
    {
     "name": "stdout",
     "output_type": "stream",
     "text": [
      "(1, 2, 3)\n"
     ]
    }
   ],
   "source": [
    "first_three_primes = tuple((1, 2, 3))\n",
    "print(first_three_primes)"
   ]
  },
  {
   "cell_type": "markdown",
   "id": "6459d029",
   "metadata": {},
   "source": [
    "this may seen a little bit strange, afterall, ```tuple()``` receives a tuple, and returns a tuple. Actually this constructor can be used for casting other data structures or data types into a tuple, such as,"
   ]
  },
  {
   "cell_type": "code",
   "execution_count": 19,
   "id": "e9408f90",
   "metadata": {},
   "outputs": [
    {
     "name": "stdout",
     "output_type": "stream",
     "text": [
      "('a', 'b', 'c')\n"
     ]
    }
   ],
   "source": [
    "first_three_letters = tuple('abc')\n",
    "print(first_three_letters)"
   ]
  },
  {
   "cell_type": "markdown",
   "id": "7a007d95",
   "metadata": {},
   "source": [
    "in general, ```tuple``` transforms an [interable](https://docs.python.org/3/c-api/iterator.html) into a tuple. We are going to cover these later on the course."
   ]
  },
  {
   "cell_type": "markdown",
   "id": "fceea8c8",
   "metadata": {},
   "source": [
    "## Properties"
   ]
  },
  {
   "cell_type": "markdown",
   "id": "9aa8a08c",
   "metadata": {},
   "source": [
    "### Tuples are Ordered"
   ]
  },
  {
   "cell_type": "markdown",
   "id": "1f6f6684",
   "metadata": {},
   "source": [
    "The elements from a tuple are defined in a given order. For instance, when we defined ```(2, 3, 5)```, we specify that 2 is the 1st element (indexed by 0), 3 is the 2nd element (indexed by 1), and 5 is the 3rd element (indexed by 2)."
   ]
  },
  {
   "cell_type": "markdown",
   "id": "6b6db0fc",
   "metadata": {},
   "source": [
    "### Tuples are Unchangeable"
   ]
  },
  {
   "cell_type": "markdown",
   "id": "4e112d28",
   "metadata": {},
   "source": [
    "Tuples are unchangeable. This means that, once it is defined, we cannot modify its values,"
   ]
  },
  {
   "cell_type": "code",
   "execution_count": 3,
   "id": "525670ea",
   "metadata": {},
   "outputs": [
    {
     "ename": "TypeError",
     "evalue": "'tuple' object does not support item assignment",
     "output_type": "error",
     "traceback": [
      "\u001b[0;31m---------------------------------------------------------------------------\u001b[0m",
      "\u001b[0;31mTypeError\u001b[0m                                 Traceback (most recent call last)",
      "Cell \u001b[0;32mIn[3], line 1\u001b[0m\n\u001b[0;32m----> 1\u001b[0m first_three_primes[\u001b[38;5;241m0\u001b[39m] \u001b[38;5;241m=\u001b[39m \u001b[38;5;241m-\u001b[39m\u001b[38;5;241m1\u001b[39m\n",
      "\u001b[0;31mTypeError\u001b[0m: 'tuple' object does not support item assignment"
     ]
    }
   ],
   "source": [
    "first_three_primes[0] = -1"
   ]
  },
  {
   "cell_type": "markdown",
   "id": "7113a653",
   "metadata": {},
   "source": [
    "### Tuples Allow duplicates"
   ]
  },
  {
   "cell_type": "markdown",
   "id": "f0a6a566",
   "metadata": {},
   "source": [
    "Tuples can hold items with same value."
   ]
  },
  {
   "cell_type": "code",
   "execution_count": 4,
   "id": "ec28d5fe",
   "metadata": {},
   "outputs": [],
   "source": [
    "fruit_basket = ('apple', 'banana', 'banana')"
   ]
  },
  {
   "cell_type": "code",
   "execution_count": 5,
   "id": "32019eef",
   "metadata": {},
   "outputs": [
    {
     "name": "stdout",
     "output_type": "stream",
     "text": [
      "('apple', 'banana', 'banana')\n"
     ]
    }
   ],
   "source": [
    "print(fruit_basket)"
   ]
  },
  {
   "cell_type": "markdown",
   "id": "a3570bad",
   "metadata": {},
   "source": [
    "### Length"
   ]
  },
  {
   "cell_type": "markdown",
   "id": "5895e71a",
   "metadata": {},
   "source": [
    "An important property of tuples is the number of elements it has. This will be used later when we talk about loops and repetition structures.\n",
    "\n",
    "In Python, many objects can be measured in terms of their length, i.e., the number of elements they hold. A general way of getting this value is through ```len(var)```, as shown below,"
   ]
  },
  {
   "cell_type": "code",
   "execution_count": 21,
   "id": "053f849e",
   "metadata": {},
   "outputs": [
    {
     "name": "stdout",
     "output_type": "stream",
     "text": [
      "3\n"
     ]
    }
   ],
   "source": [
    "print(len(fruit_basket))"
   ]
  },
  {
   "cell_type": "markdown",
   "id": "9b14acd4",
   "metadata": {},
   "source": [
    "naturally, since ```fruit_basket``` holds three values (strings), ```len(fruit_basket)``` returns 3. The return type of ```len``` is always an integer. It is zero if the variables does not hold any elements,"
   ]
  },
  {
   "cell_type": "code",
   "execution_count": 23,
   "id": "de373347",
   "metadata": {},
   "outputs": [
    {
     "name": "stdout",
     "output_type": "stream",
     "text": [
      "0\n"
     ]
    }
   ],
   "source": [
    "empty_list = ()\n",
    "print(len(empty_list))"
   ]
  },
  {
   "cell_type": "markdown",
   "id": "4cfcd283",
   "metadata": {},
   "source": [
    "## Adding Elements"
   ]
  },
  {
   "cell_type": "markdown",
   "id": "eec0d30c",
   "metadata": {},
   "source": [
    "even though you cannot change elements to a tuple, you can add through the operation ```+```, as such,"
   ]
  },
  {
   "cell_type": "code",
   "execution_count": 26,
   "id": "da4c7413",
   "metadata": {},
   "outputs": [
    {
     "name": "stdout",
     "output_type": "stream",
     "text": [
      "(2, 3, 5, 7)\n"
     ]
    }
   ],
   "source": [
    "primes = (2, 3, 5)\n",
    "primes += (7,)\n",
    "\n",
    "print(primes)"
   ]
  },
  {
   "cell_type": "markdown",
   "id": "65afd9b3",
   "metadata": {},
   "source": [
    "note that ```+``` is a [Polymorfic](https://en.wikipedia.org/wiki/Polymorphism_(computer_science)) operation in Python, that is, it behaves different based on its inputs. In this case, ```+``` operates over 2 variables. For tuples, ```+``` __concatenates__ them, i.e.,"
   ]
  },
  {
   "cell_type": "code",
   "execution_count": 27,
   "id": "5b92d5ef",
   "metadata": {},
   "outputs": [
    {
     "name": "stdout",
     "output_type": "stream",
     "text": [
      "(2, 3, 5, 7, 11, 13)\n"
     ]
    }
   ],
   "source": [
    "primes1 = (2, 3, 5)\n",
    "primes2 = (7, 11, 13)\n",
    "primes = primes1 + primes2\n",
    "\n",
    "print(primes)"
   ]
  },
  {
   "cell_type": "markdown",
   "id": "acd2d8f5",
   "metadata": {},
   "source": [
    "__Error Remark.__ ```+``` does not support a combination of a tuple and a non-tuple, for instance,"
   ]
  },
  {
   "cell_type": "code",
   "execution_count": 28,
   "id": "4bbdac2c",
   "metadata": {},
   "outputs": [
    {
     "ename": "TypeError",
     "evalue": "can only concatenate tuple (not \"int\") to tuple",
     "output_type": "error",
     "traceback": [
      "\u001b[0;31m---------------------------------------------------------------------------\u001b[0m",
      "\u001b[0;31mTypeError\u001b[0m                                 Traceback (most recent call last)",
      "Cell \u001b[0;32mIn[28], line 2\u001b[0m\n\u001b[1;32m      1\u001b[0m primes \u001b[38;5;241m=\u001b[39m (\u001b[38;5;241m2\u001b[39m, \u001b[38;5;241m3\u001b[39m, \u001b[38;5;241m5\u001b[39m)\n\u001b[0;32m----> 2\u001b[0m primes \u001b[38;5;241m=\u001b[39m \u001b[43mprimes\u001b[49m\u001b[43m \u001b[49m\u001b[38;5;241;43m+\u001b[39;49m\u001b[43m \u001b[49m\u001b[38;5;241;43m7\u001b[39;49m\n\u001b[1;32m      4\u001b[0m \u001b[38;5;28mprint\u001b[39m(primes)\n",
      "\u001b[0;31mTypeError\u001b[0m: can only concatenate tuple (not \"int\") to tuple"
     ]
    }
   ],
   "source": [
    "primes = (2, 3, 5)\n",
    "primes = primes + 7\n",
    "\n",
    "print(primes)"
   ]
  },
  {
   "cell_type": "markdown",
   "id": "880fbc62",
   "metadata": {},
   "source": [
    "the error message here explicitly tells you cannot concatenate a tuple with a not-tuple. The exception ```TypeError``` is more general. It is used whenever the __data type__ of an __object__ in an __operation__ is inappropriate."
   ]
  },
  {
   "cell_type": "markdown",
   "id": "cadfac98",
   "metadata": {},
   "source": [
    "### Tuple Methods"
   ]
  },
  {
   "cell_type": "markdown",
   "id": "2cd745ce",
   "metadata": {},
   "source": [
    "Tuples have the following methods,\n",
    "\n",
    "- ```.count()```: Returns the number of times a specified value occurs in a tuple\n",
    "- ```.index()```: Searches the tuple for a specified value and returns the __first__ position of where it was found\n",
    "\n",
    "for instance,"
   ]
  },
  {
   "cell_type": "code",
   "execution_count": 3,
   "id": "f85fc1ee",
   "metadata": {},
   "outputs": [
    {
     "name": "stdout",
     "output_type": "stream",
     "text": [
      "2\n",
      "2\n"
     ]
    }
   ],
   "source": [
    "primes = (2, 2, 3, 3, 5, 5)\n",
    "\n",
    "print(primes.count(3))\n",
    "print(primes.index(3))"
   ]
  },
  {
   "cell_type": "markdown",
   "id": "d0bebe1b",
   "metadata": {},
   "source": [
    "# Lists"
   ]
  },
  {
   "cell_type": "markdown",
   "id": "304514e7",
   "metadata": {},
   "source": [
    "While sets and tuples are somewhat situational, lists and dictionaries are commonly used when programming. You will get the feel on why lists are so important when we talk about __list comprehension__, in the next lecture.\n",
    "\n",
    "Lists are characterized by square brackets,"
   ]
  },
  {
   "cell_type": "code",
   "execution_count": 1,
   "id": "62bbea1e",
   "metadata": {},
   "outputs": [
    {
     "name": "stdout",
     "output_type": "stream",
     "text": [
      "[2, 3, 5]\n"
     ]
    }
   ],
   "source": [
    "primes = [2, 3, 5]\n",
    "print(primes)"
   ]
  },
  {
   "cell_type": "markdown",
   "id": "aab08f7f",
   "metadata": {},
   "source": [
    "as tuples, you can index elements through square brackets, that is ```[0]``` gives you the first element of the list,"
   ]
  },
  {
   "cell_type": "code",
   "execution_count": 2,
   "id": "6504bbea",
   "metadata": {},
   "outputs": [
    {
     "name": "stdout",
     "output_type": "stream",
     "text": [
      "2\n"
     ]
    }
   ],
   "source": [
    "print(primes[0])"
   ]
  },
  {
   "cell_type": "markdown",
   "id": "a1973174",
   "metadata": {},
   "source": [
    "__Error Remark.__ As with tuples, if you try to access an element through an index that exceeds the list's length, you will get an error,"
   ]
  },
  {
   "cell_type": "code",
   "execution_count": 3,
   "id": "5cfc85c1",
   "metadata": {},
   "outputs": [
    {
     "ename": "IndexError",
     "evalue": "list index out of range",
     "output_type": "error",
     "traceback": [
      "\u001b[0;31m---------------------------------------------------------------------------\u001b[0m",
      "\u001b[0;31mIndexError\u001b[0m                                Traceback (most recent call last)",
      "Cell \u001b[0;32mIn[3], line 1\u001b[0m\n\u001b[0;32m----> 1\u001b[0m \u001b[38;5;28mprint\u001b[39m(\u001b[43mprimes\u001b[49m\u001b[43m[\u001b[49m\u001b[38;5;241;43m3\u001b[39;49m\u001b[43m]\u001b[49m)\n",
      "\u001b[0;31mIndexError\u001b[0m: list index out of range"
     ]
    }
   ],
   "source": [
    "print(primes[3])"
   ]
  },
  {
   "cell_type": "markdown",
   "id": "cab29881",
   "metadata": {},
   "source": [
    "Python raises an ```IndexError``` exception, indicating that you tried to access an element from a list or tuple that is not present in the variable."
   ]
  },
  {
   "cell_type": "markdown",
   "id": "f2c6b7d1",
   "metadata": {},
   "source": [
    "### Lists are ordered"
   ]
  },
  {
   "cell_type": "markdown",
   "id": "75213c6d",
   "metadata": {},
   "source": [
    "When you declare a list, its elements appear in the order you declared. You can access these elements through indices, that follow the indicated order (i.e., ```[0]``` for the first element). You can add and remove items from a list, through the methods ```.append``` and ```.pop```, as follows,"
   ]
  },
  {
   "cell_type": "code",
   "execution_count": 8,
   "id": "e355d260",
   "metadata": {},
   "outputs": [
    {
     "name": "stdout",
     "output_type": "stream",
     "text": [
      "[2, 3, 5, 7]\n"
     ]
    }
   ],
   "source": [
    "primes = [2, 3, 5]\n",
    "primes.append(7)\n",
    "\n",
    "print(primes)"
   ]
  },
  {
   "cell_type": "markdown",
   "id": "a5cfd38a",
   "metadata": {},
   "source": [
    "the method ```.append(value)``` [__appends__](https://dictionary.cambridge.org/dictionary/english/append) (i.e., adds at the end) ```value``` to the end of the list."
   ]
  },
  {
   "cell_type": "markdown",
   "id": "9e2341a0",
   "metadata": {},
   "source": [
    "you can also remove items from the list, using ```.pop()```. This will remove the last item from the list,"
   ]
  },
  {
   "cell_type": "code",
   "execution_count": 9,
   "id": "e9a37ef0",
   "metadata": {},
   "outputs": [
    {
     "name": "stdout",
     "output_type": "stream",
     "text": [
      "7\n",
      "[2, 3, 5]\n"
     ]
    }
   ],
   "source": [
    "popped_val = primes.pop()\n",
    "print(popped_val)\n",
    "print(primes)"
   ]
  },
  {
   "cell_type": "markdown",
   "id": "fc287080",
   "metadata": {},
   "source": [
    "here, ```.pop()``` you return the last element of the list. This element is removed from the list."
   ]
  },
  {
   "cell_type": "markdown",
   "id": "3b5c1b49",
   "metadata": {},
   "source": [
    "__Remark.__ Here we begin to talk about notions of functions and methods. the method ```.pop()``` acts upon the object from the class ```list```. In this sense, ```primes``` is an instance of the class ```list```. Upon __calling__ this method, it does some inner work. When it finishes, it exits the method. Upon exitting, it may return a value, or not. In the case of ```.pop()``` it returns the value popped, i.e., 7. This is different from ```.append(value)``` which does not return anything,"
   ]
  },
  {
   "cell_type": "code",
   "execution_count": 10,
   "id": "2970306e",
   "metadata": {},
   "outputs": [
    {
     "name": "stdout",
     "output_type": "stream",
     "text": [
      "None\n"
     ]
    }
   ],
   "source": [
    "returned_val = primes.append(7)\n",
    "\n",
    "print(returned_val)"
   ]
  },
  {
   "cell_type": "markdown",
   "id": "3df04e3a",
   "metadata": {},
   "source": [
    "when you try to assign to a variable the output of a function that does not returns anything, you get a NoneType value."
   ]
  },
  {
   "cell_type": "markdown",
   "id": "2f1d5c78",
   "metadata": {},
   "source": [
    "we will revisit this example when we talk about functions. For now, don't worry too much about it."
   ]
  },
  {
   "cell_type": "markdown",
   "id": "d5b205f9",
   "metadata": {},
   "source": [
    "### Lists are changeable"
   ]
  },
  {
   "cell_type": "markdown",
   "id": "73bf15bd",
   "metadata": {},
   "source": [
    "You can change elements in a list, that is,"
   ]
  },
  {
   "cell_type": "code",
   "execution_count": 14,
   "id": "8e395f7b",
   "metadata": {},
   "outputs": [
    {
     "name": "stdout",
     "output_type": "stream",
     "text": [
      "[2, 3, 5]\n"
     ]
    }
   ],
   "source": [
    "# oops, I made an error. 100 is not a prime.\n",
    "primes = [100, 3, 5]\n",
    "primes[0] = 2\n",
    "\n",
    "print(primes)"
   ]
  },
  {
   "cell_type": "markdown",
   "id": "6e8c4148",
   "metadata": {},
   "source": [
    "Note that we are able to indicate that we want to change the first element, ```primes[0]``` with the value 2."
   ]
  },
  {
   "cell_type": "markdown",
   "id": "054f2f93",
   "metadata": {},
   "source": [
    "### Lists allow duplicates"
   ]
  },
  {
   "cell_type": "markdown",
   "id": "029210b4",
   "metadata": {},
   "source": [
    "Since lists are indexed, they allow duplicated elements,"
   ]
  },
  {
   "cell_type": "code",
   "execution_count": 15,
   "id": "2971d913",
   "metadata": {},
   "outputs": [
    {
     "name": "stdout",
     "output_type": "stream",
     "text": [
      "[2, 2, 3, 3, 5, 5, 7, 7]\n"
     ]
    }
   ],
   "source": [
    "primes = [2, 2, 3, 3, 5, 5, 7, 7]\n",
    "\n",
    "print(primes)"
   ]
  },
  {
   "cell_type": "markdown",
   "id": "b5bca302",
   "metadata": {},
   "source": [
    "### Nested Lists"
   ]
  },
  {
   "cell_type": "markdown",
   "id": "a7f79f8a",
   "metadata": {},
   "source": [
    "Python supports lists of lists,"
   ]
  },
  {
   "cell_type": "code",
   "execution_count": 65,
   "id": "5e131cbe",
   "metadata": {},
   "outputs": [
    {
     "name": "stdout",
     "output_type": "stream",
     "text": [
      "[['a', 'b', 'c'], [1, 2, 3]]\n"
     ]
    }
   ],
   "source": [
    "my_list = [['a', 'b', 'c'], [1, 2, 3]]\n",
    "\n",
    "print(my_list)"
   ]
  },
  {
   "cell_type": "markdown",
   "id": "b7ae2aae",
   "metadata": {},
   "source": [
    "in this case, the first element of the list is itself a list ```['a', 'b', 'c']```,"
   ]
  },
  {
   "cell_type": "code",
   "execution_count": 66,
   "id": "856d7a43",
   "metadata": {},
   "outputs": [
    {
     "name": "stdout",
     "output_type": "stream",
     "text": [
      "['a', 'b', 'c']\n"
     ]
    }
   ],
   "source": [
    "print(my_list[0])"
   ]
  },
  {
   "cell_type": "markdown",
   "id": "6f30807e",
   "metadata": {},
   "source": [
    "### Methods"
   ]
  },
  {
   "cell_type": "markdown",
   "id": "2159c81c",
   "metadata": {},
   "source": [
    "__Adding elements__\n",
    "\n",
    "- ```append(value)```: adds ```value``` to the list's end.\n",
    "- ```extend(other_list)```: concatenates ```other_list``` to the end of list.\n",
    "- ```insert(position, value)```: Inserts ```value``` on ```position``` of list.\n",
    "\n",
    "Examples,"
   ]
  },
  {
   "cell_type": "code",
   "execution_count": 18,
   "id": "99814dc1",
   "metadata": {},
   "outputs": [
    {
     "name": "stdout",
     "output_type": "stream",
     "text": [
      "['a', 'b', 'c', 1, 2, 3]\n"
     ]
    }
   ],
   "source": [
    "list1 = ['a', 'b', 'c']\n",
    "list2 = [1, 2, 3]\n",
    "list1.extend(list2)\n",
    "\n",
    "print(list1)"
   ]
  },
  {
   "cell_type": "code",
   "execution_count": 21,
   "id": "5f77906b",
   "metadata": {},
   "outputs": [
    {
     "name": "stdout",
     "output_type": "stream",
     "text": [
      "['apple', 'orange', 'banana', 'pineaple'] orange\n"
     ]
    }
   ],
   "source": [
    "fruit_basket = ['apple', 'banana', 'pineaple']\n",
    "fruit_basket.insert(1, 'orange')\n",
    "\n",
    "print(fruit_basket, fruit_basket[1])"
   ]
  },
  {
   "cell_type": "markdown",
   "id": "5dc58075",
   "metadata": {},
   "source": [
    "__Removing elements__\n",
    "\n",
    "- ```pop()```: removes the last value in the list.\n",
    "- ```remove(value)```: removes ```value```in the list\n",
    "\n",
    "Examples,"
   ]
  },
  {
   "cell_type": "code",
   "execution_count": 22,
   "id": "093d2055",
   "metadata": {},
   "outputs": [
    {
     "name": "stdout",
     "output_type": "stream",
     "text": [
      "[2, 2, 3, 3, 3, 5, 5, 5]\n"
     ]
    }
   ],
   "source": [
    "list1 = [2, 2, 2, 3, 3, 3, 5, 5, 5]\n",
    "list1.remove(2)\n",
    "\n",
    "print(list1)"
   ]
  },
  {
   "cell_type": "markdown",
   "id": "30a786fd",
   "metadata": {},
   "source": [
    "__Ordering__\n",
    "\n",
    "- ```sort()```: Sorts elements in ascending order\n",
    "- ```reverse()```: Reverses elements in the list\n",
    "\n",
    "Examples,"
   ]
  },
  {
   "cell_type": "code",
   "execution_count": 23,
   "id": "268b96f4",
   "metadata": {},
   "outputs": [
    {
     "name": "stdout",
     "output_type": "stream",
     "text": [
      "[1, 2, 3, 4, 5, 6]\n"
     ]
    }
   ],
   "source": [
    "list1 = [1, 6, 3, 4, 5, 2]\n",
    "list1.sort()\n",
    "\n",
    "print(list1)"
   ]
  },
  {
   "cell_type": "code",
   "execution_count": 24,
   "id": "4d666a81",
   "metadata": {},
   "outputs": [
    {
     "name": "stdout",
     "output_type": "stream",
     "text": [
      "[2, 5, 4, 3, 6, 1]\n"
     ]
    }
   ],
   "source": [
    "list1 = [1, 6, 3, 4, 5, 2]\n",
    "list1.reverse()\n",
    "\n",
    "print(list1)"
   ]
  },
  {
   "cell_type": "markdown",
   "id": "6a347f95",
   "metadata": {},
   "source": [
    "__Counting__\n",
    "\n",
    "- ```count(value)```: counts how many times ```value``` occurs in the list."
   ]
  },
  {
   "cell_type": "code",
   "execution_count": 25,
   "id": "a44b40a9",
   "metadata": {},
   "outputs": [
    {
     "name": "stdout",
     "output_type": "stream",
     "text": [
      "2 2 2 3\n"
     ]
    }
   ],
   "source": [
    "list1 = [1, 1, 2, 2, 3, 3, 4, 4, 4]\n",
    "\n",
    "print(list1.count(1), list1.count(2), list1.count(3), list1.count(4))"
   ]
  },
  {
   "cell_type": "markdown",
   "id": "86ef67a5",
   "metadata": {},
   "source": [
    "__Memory__\n",
    "\n",
    "- ```copy()```: returns a copy of the list"
   ]
  },
  {
   "cell_type": "code",
   "execution_count": 28,
   "id": "53e20a97",
   "metadata": {},
   "outputs": [],
   "source": [
    "list_a = [1, 1, 2]\n",
    "list_b = list_a.copy()"
   ]
  },
  {
   "cell_type": "code",
   "execution_count": 29,
   "id": "008e4692",
   "metadata": {},
   "outputs": [
    {
     "name": "stdout",
     "output_type": "stream",
     "text": [
      "[1, 1, 2] [1, 1, 2]\n"
     ]
    }
   ],
   "source": [
    "print(list_a, list_b)"
   ]
  },
  {
   "cell_type": "markdown",
   "id": "9afd6aae",
   "metadata": {},
   "source": [
    "__Note.__ the following discussion is theoretical on programming. Python does not let you directly manage memory like C/C++, but you still must be aware of some concepts.\n",
    "\n",
    "__Pass by value or reference.__ In programming, there are 2 ways to understand assignments, that is, there are two ways you can interpret the action ```a = b```.\n",
    "\n",
    "__Pass by Value.__ When you \"pass by value\", you are saying the following: ```a.value = b.value```, that is, if ```b``` is an integer with value 5, then ```a``` will be assigned an integer with value 5. In terms of memory, ```a``` and ```b``` will be occupy different spaces in the memory (i.e., they will occupy twice the memory).\n",
    "\n",
    "__Pass by Reference.___ When you \"pass by reference\", you are saying the following: ```a.reference = b.reference```. Here, reference refers to the place in memory a variable lives. This is somewhat like pointers in C/C++,\n",
    "\n",
    "![here's a meme](https://i.redd.it/kh726uczjnq71.png)\n",
    "\n",
    "Going back to Python, when you pass by reference, you don't create new memory. In this case ```a``` and ```b``` will point to the same location in memory. In practice, this means that when you access the value of ```a``` and the value of ```b```, you will get the same value (because you will look on the same place in memory).\n",
    "\n",
    "__Why does it matter?__ Let us work with a practical case. Assume ```b.value = 5``` and ```b.reference = 0x00```. You copy the reference to ```b```, to ```a```, that is, ```a.reference = b.reference```. Now, let us assume you do ```b.value = 10```. Since ```b``` refer (or point to) the same place in memory, when you try to access ```a.value```, you will get 10. We illustrate this in Python in the next example,"
   ]
  },
  {
   "cell_type": "code",
   "execution_count": 36,
   "id": "b3397829",
   "metadata": {},
   "outputs": [
    {
     "name": "stdout",
     "output_type": "stream",
     "text": [
      "140312888333504\n"
     ]
    }
   ],
   "source": [
    "# Here you create a list where b.value = [2, 3 5]\n",
    "b = [2, 3, 5]\n",
    "# You can see its reference using the function id\n",
    "print(id(b))"
   ]
  },
  {
   "cell_type": "code",
   "execution_count": 37,
   "id": "a8b03023",
   "metadata": {},
   "outputs": [
    {
     "name": "stdout",
     "output_type": "stream",
     "text": [
      "140312888333504 True\n"
     ]
    }
   ],
   "source": [
    "# Here you do a.reference = b.reference\n",
    "a = b\n",
    "# Let us look at the place in memory a occupies,\n",
    "print(id(a), id(a) == id(b))"
   ]
  },
  {
   "cell_type": "code",
   "execution_count": 38,
   "id": "6c3ae6ae",
   "metadata": {},
   "outputs": [
    {
     "name": "stdout",
     "output_type": "stream",
     "text": [
      "[2, 3, 5, 7] [2, 3, 5, 7]\n"
     ]
    }
   ],
   "source": [
    "# Let us change b.value\n",
    "b.append(7)\n",
    "# Let us access a.value and b.value\n",
    "print(a, b)\n",
    "# The operation .append was applied to both variables."
   ]
  },
  {
   "cell_type": "code",
   "execution_count": 40,
   "id": "b6347dab",
   "metadata": {},
   "outputs": [
    {
     "name": "stdout",
     "output_type": "stream",
     "text": [
      "[2, 3, 5] 140312888400192\n"
     ]
    }
   ],
   "source": [
    "# Now, let us try .copy(),\n",
    "b = [2, 3, 5]\n",
    "print(b, id(b))"
   ]
  },
  {
   "cell_type": "code",
   "execution_count": 41,
   "id": "6fe63a13",
   "metadata": {},
   "outputs": [
    {
     "name": "stdout",
     "output_type": "stream",
     "text": [
      "140312888388224 False\n"
     ]
    }
   ],
   "source": [
    "# Here you are passing by value, that is,\n",
    "# a.value = b.value\n",
    "a = b.copy()\n",
    "# Let us check the place in memory,\n",
    "print(id(a), id(a) == id(b))"
   ]
  },
  {
   "cell_type": "code",
   "execution_count": 43,
   "id": "c5e7a5cc",
   "metadata": {},
   "outputs": [
    {
     "name": "stdout",
     "output_type": "stream",
     "text": [
      "[2, 3, 5] [2, 3, 5, 7, 7]\n"
     ]
    }
   ],
   "source": [
    "# Let us change b.value\n",
    "b.append(7)\n",
    "# Let us access a.value, b.value\n",
    "print(a, b)\n",
    "# The operation .append only applies to b"
   ]
  },
  {
   "cell_type": "markdown",
   "id": "c26f74c0",
   "metadata": {},
   "source": [
    "here is an illustration of this effect,\n",
    "\n",
    "![](https://blog.penjee.com/wp-content/uploads/2015/02/pass-by-reference-vs-pass-by-value-animation.gif)\n",
    "\n",
    "__source:__ https://blog.penjee.com/passing-by-value-vs-by-reference-java-graphical/"
   ]
  },
  {
   "cell_type": "markdown",
   "id": "b9b3b963",
   "metadata": {},
   "source": [
    "# Dictionaries"
   ]
  },
  {
   "cell_type": "markdown",
   "id": "353f7620",
   "metadata": {},
   "source": [
    "Dictionaries are conceptually similar to [functions in mathematics](https://en.wikipedia.org/wiki/Function_(mathematics)). Let us begin discussing the concept of function.\n",
    "\n",
    "A function $f:X \\rightarrow Y$ is a rule, which assigns values to $x \\in X$. The set $X$ is called domain, whereas $Y$ is called co-domain. The value $f(x) \\in Y$ is called image of $x \\in X$. The idea is that for each $x \\in X$ there is an unique value $f(x) \\in Y$, i.e., the same element in the domain cannot have two images.\n",
    "\n",
    "Dictionaries operate in the same way. When you define your dictionary you have a set of __keys__. To each key you assign an unique value. As such, you can access values in a dictionary through keys.\n",
    "\n",
    "Dictionaries are defined through curly brackets, like sets. For instance, consider the following function,\n",
    "\n",
    "<img src=\"https://upload.wikimedia.org/wikipedia/commons/thumb/8/83/Injection_keine_Injektion_2a.svg/1024px-Injection_keine_Injektion_2a.svg.png\" width=\"200\">\n",
    "\n",
    "[Source](https://en.wikipedia.org/wiki/Function_(mathematics))"
   ]
  },
  {
   "cell_type": "code",
   "execution_count": 44,
   "id": "43cd90a3",
   "metadata": {},
   "outputs": [
    {
     "name": "stdout",
     "output_type": "stream",
     "text": [
      "{1: 'D', 2: 'C', 3: 'C'}\n"
     ]
    }
   ],
   "source": [
    "d = {1: 'D', 2: 'C', 3: 'C'}\n",
    "\n",
    "print(d)"
   ]
  },
  {
   "cell_type": "markdown",
   "id": "527095a4",
   "metadata": {},
   "source": [
    "the correspondence ```key``` $\\mapsto$ ```value``` is done via ```:```"
   ]
  },
  {
   "cell_type": "markdown",
   "id": "ec93d726",
   "metadata": {},
   "source": [
    "### Dictionaries are ordered"
   ]
  },
  {
   "cell_type": "markdown",
   "id": "291aebc6",
   "metadata": {},
   "source": [
    "you need a little bit of imagination to see that dictionaries are ordered. The order dictionaries follow is not like lists and tuples, who follow an index order. Dictionaries follow a key order. For instance, if you defined a dictionary with keys ```{1, 'banana', 1+1j}```, the order of these keys will not change."
   ]
  },
  {
   "cell_type": "markdown",
   "id": "ff60f6f2",
   "metadata": {},
   "source": [
    "as you may have guessed, dictionaries are not necessarily indexed through integers starting from 0. Actually, you can define virtually any set of keys for indexing elements, as we show below,"
   ]
  },
  {
   "cell_type": "code",
   "execution_count": 54,
   "id": "a102ee23",
   "metadata": {},
   "outputs": [
    {
     "name": "stdout",
     "output_type": "stream",
     "text": [
      "{1: 'p', 'banana': 'y', (1+1j): 't', 1.024: 'h', 0: 'o', None: 'n'}\n"
     ]
    }
   ],
   "source": [
    "d = {1: 'p',\n",
    "     'banana': 'y',\n",
    "     1+1j: 't',\n",
    "     1.024: 'h',\n",
    "     0: 'o',\n",
    "     None: 'n'\n",
    "    }\n",
    "print(d)"
   ]
  },
  {
   "cell_type": "code",
   "execution_count": 57,
   "id": "9361b4d1",
   "metadata": {},
   "outputs": [
    {
     "name": "stdout",
     "output_type": "stream",
     "text": [
      "p y t h o n\n"
     ]
    }
   ],
   "source": [
    "print(d[1], d['banana'], d[1 + 1j], d[1.024], d[0], d[None])"
   ]
  },
  {
   "cell_type": "markdown",
   "id": "ddc2e1cc",
   "metadata": {},
   "source": [
    "you can access the dictionary keys through ```.keys()```"
   ]
  },
  {
   "cell_type": "code",
   "execution_count": 45,
   "id": "a2e4911a",
   "metadata": {},
   "outputs": [
    {
     "data": {
      "text/plain": [
       "dict_keys([1, 2, 3])"
      ]
     },
     "execution_count": 45,
     "metadata": {},
     "output_type": "execute_result"
    }
   ],
   "source": [
    "d.keys()"
   ]
  },
  {
   "cell_type": "markdown",
   "id": "d88999bd",
   "metadata": {},
   "source": [
    "### Dictionaries are changeable"
   ]
  },
  {
   "cell_type": "markdown",
   "id": "f9e93614",
   "metadata": {},
   "source": [
    "You can change dictionary values which are already indexed,"
   ]
  },
  {
   "cell_type": "code",
   "execution_count": 60,
   "id": "0ae1dc7d",
   "metadata": {},
   "outputs": [
    {
     "name": "stdout",
     "output_type": "stream",
     "text": [
      "{1: 10, 'banana': 'y', (1+1j): 't', 1.024: 'h', 0: 'o', None: 'n'}\n"
     ]
    }
   ],
   "source": [
    "d[1] = 10\n",
    "\n",
    "print(d)"
   ]
  },
  {
   "cell_type": "markdown",
   "id": "34db07db",
   "metadata": {},
   "source": [
    "You can add new keys directly in the dictionary,"
   ]
  },
  {
   "cell_type": "code",
   "execution_count": 62,
   "id": "92cfc245",
   "metadata": {},
   "outputs": [
    {
     "name": "stdout",
     "output_type": "stream",
     "text": [
      "{1: 10, 'banana': 'y', (1+1j): 't', 1.024: 'h', 0: 'o', None: 'n', 2: 20}\n"
     ]
    }
   ],
   "source": [
    "d[2] = 20\n",
    "print(d)"
   ]
  },
  {
   "cell_type": "markdown",
   "id": "dac6b54b",
   "metadata": {},
   "source": [
    "__Note.__ while accessing an index not present in a list or tuple raises an ```IndexError```, in a dictionary you do not get such error. This happens because dictionary keys do not have a numeric order (they have an insertion order)."
   ]
  },
  {
   "cell_type": "markdown",
   "id": "ccae1d6d",
   "metadata": {},
   "source": [
    "### Dictionaries do not allow duplicate keys"
   ]
  },
  {
   "cell_type": "markdown",
   "id": "92ee96ac",
   "metadata": {},
   "source": [
    "Much like functions, dictionaries do not support the assignment of multiple values to the same key. Python will not throw you an error, but it will overwrite the value by the last assigned pair ```key: value```"
   ]
  },
  {
   "cell_type": "code",
   "execution_count": 64,
   "id": "2a25d10b",
   "metadata": {},
   "outputs": [
    {
     "name": "stdout",
     "output_type": "stream",
     "text": [
      "{1: 'a', 2: 'c'}\n"
     ]
    }
   ],
   "source": [
    "d = {1: 'a', 2: 'b', 2: 'c'}\n",
    "print(d)"
   ]
  },
  {
   "cell_type": "markdown",
   "id": "f4473058",
   "metadata": {},
   "source": [
    "### Nested Dictionaries"
   ]
  },
  {
   "cell_type": "markdown",
   "id": "d68706a3",
   "metadata": {},
   "source": [
    "As lists and tuples, Python supports nested dictionaries, that is, dictionaries of dictionaries. For instance,"
   ]
  },
  {
   "cell_type": "code",
   "execution_count": 68,
   "id": "ac1d8b19",
   "metadata": {},
   "outputs": [
    {
     "name": "stdout",
     "output_type": "stream",
     "text": [
      "{'sub1': {'a': 1, 'b': 2, 'c': 3}, 'sub2': {'a': 10, 'b': 20, 'c': 30}, 'sub3': 1}\n"
     ]
    }
   ],
   "source": [
    "d = {\n",
    "    'sub1': {'a': 1, 'b': 2, 'c': 3},\n",
    "    'sub2': {'a': 10, 'b': 20, 'c': 30},\n",
    "    'sub3': 1\n",
    "}\n",
    "\n",
    "print(d)"
   ]
  },
  {
   "cell_type": "markdown",
   "id": "0696caf2",
   "metadata": {},
   "source": [
    "in this case ```d['sub1']``` is itself a dictionary,"
   ]
  },
  {
   "cell_type": "code",
   "execution_count": 69,
   "id": "84f208ab",
   "metadata": {},
   "outputs": [
    {
     "name": "stdout",
     "output_type": "stream",
     "text": [
      "{'a': 1, 'b': 2, 'c': 3}\n"
     ]
    }
   ],
   "source": [
    "print(d['sub1'])"
   ]
  },
  {
   "cell_type": "markdown",
   "id": "00245008",
   "metadata": {},
   "source": [
    "## Dictionary Methods"
   ]
  },
  {
   "cell_type": "markdown",
   "id": "b5353079",
   "metadata": {},
   "source": [
    "__Indexing.__\n",
    "\n",
    "- ```.keys()```: Returns a list containing the keys of a dictionary\n",
    "- ```.values()```: Returns a list containing the values of a dictionary\n",
    "- ```.items()```: Returns a list of tuples containing pairs ```(key, value)```\n",
    "- ```.get(key, value (optional))```: Returns the value of a given key. If key is not present in the dictionary, returns value.\n",
    "- ```.fromkeys(keys, values (optional))```: Creates a dictionary with the specified keys. If value is given, assign value to each key."
   ]
  },
  {
   "cell_type": "code",
   "execution_count": 24,
   "id": "22a21cd9",
   "metadata": {},
   "outputs": [
    {
     "name": "stdout",
     "output_type": "stream",
     "text": [
      "dict_keys(['a', 'b', 'c']) dict_values([1, 2, 3])\n"
     ]
    }
   ],
   "source": [
    "d = {'a': 1, 'b': 2, 'c': 3}\n",
    "\n",
    "print(d.keys(), d.values())"
   ]
  },
  {
   "cell_type": "code",
   "execution_count": 25,
   "id": "d5c884e7",
   "metadata": {},
   "outputs": [
    {
     "name": "stdout",
     "output_type": "stream",
     "text": [
      "dict_items([('a', 1), ('b', 2), ('c', 3)])\n"
     ]
    }
   ],
   "source": [
    "d = {'a': 1, 'b': 2, 'c': 3}\n",
    "\n",
    "print(d.items())"
   ]
  },
  {
   "cell_type": "code",
   "execution_count": 28,
   "id": "7148f891",
   "metadata": {},
   "outputs": [
    {
     "name": "stdout",
     "output_type": "stream",
     "text": [
      "1 None 1 -1\n"
     ]
    }
   ],
   "source": [
    "d = {'a': 1, 'b': 2, 'c': 3}\n",
    "\n",
    "print(d.get('a'), d.get('d'), d.get('a', -1), d.get('d', -1))"
   ]
  },
  {
   "cell_type": "code",
   "execution_count": 37,
   "id": "e8823e2f",
   "metadata": {},
   "outputs": [
    {
     "name": "stdout",
     "output_type": "stream",
     "text": [
      "{'a': None, 'b': None, 'c': None} {'a': -1, 'b': -1, 'c': -1}\n"
     ]
    }
   ],
   "source": [
    "d = {'a': 1, 'b': 2, 'c': 3}\n",
    "\n",
    "print(d.fromkeys(['a', 'b', 'c']), d.fromkeys(['a', 'b', 'c'], -1))"
   ]
  },
  {
   "cell_type": "markdown",
   "id": "89d5e328",
   "metadata": {},
   "source": [
    "__Element Operations.__\n",
    "\n",
    "- ```.clear()```: Deletes all pairs items from the dictionary.\n",
    "- ```.update()```: Add a ```key:value``` or ```(key, value)``` to the dictionary.\n",
    "- ```.pop(key)```: pops item ```key:value``` from the dictionary, and returns ```value```\n",
    "- ```.popitem()```: pops item ```key:value``` from the dictionary, and returns a tuple ```(key, item)```"
   ]
  },
  {
   "cell_type": "code",
   "execution_count": 38,
   "id": "090ec4f4",
   "metadata": {},
   "outputs": [
    {
     "name": "stdout",
     "output_type": "stream",
     "text": [
      "{}\n"
     ]
    }
   ],
   "source": [
    "d = {'a': 1, 'b': 2, 'c': 3}\n",
    "d.clear()\n",
    "\n",
    "print(d)"
   ]
  },
  {
   "cell_type": "code",
   "execution_count": 48,
   "id": "6b50b207",
   "metadata": {},
   "outputs": [
    {
     "name": "stdout",
     "output_type": "stream",
     "text": [
      "{'a': 1, 'b': 2, 'c': 3}\n"
     ]
    }
   ],
   "source": [
    "d = {}\n",
    "\n",
    "d.update({'a': 1})\n",
    "d.update((('b', 2),))\n",
    "d.update([['c', 3],])\n",
    "\n",
    "print(d)"
   ]
  },
  {
   "cell_type": "code",
   "execution_count": 54,
   "id": "d0bc536e",
   "metadata": {},
   "outputs": [
    {
     "name": "stdout",
     "output_type": "stream",
     "text": [
      "{'b': 2, 'c': 3} 1\n"
     ]
    }
   ],
   "source": [
    "d = {'a': 1, 'b': 2, 'c': 3}\n",
    "val = d.pop('a')\n",
    "\n",
    "print(d, val)"
   ]
  },
  {
   "cell_type": "code",
   "execution_count": 56,
   "id": "3c1b1a53",
   "metadata": {},
   "outputs": [
    {
     "name": "stdout",
     "output_type": "stream",
     "text": [
      "('c', 3)\n"
     ]
    }
   ],
   "source": [
    "d = {'a': 1, 'b': 2, 'c': 3}\n",
    "item = d.popitem()\n",
    "\n",
    "print(item)"
   ]
  },
  {
   "cell_type": "markdown",
   "id": "e12de1cf",
   "metadata": {},
   "source": [
    "__Memory.__\n",
    "\n",
    "- ```.copy()```"
   ]
  }
 ],
 "metadata": {
  "kernelspec": {
   "display_name": "Python 3 (ipykernel)",
   "language": "python",
   "name": "python3"
  },
  "language_info": {
   "codemirror_mode": {
    "name": "ipython",
    "version": 3
   },
   "file_extension": ".py",
   "mimetype": "text/x-python",
   "name": "python",
   "nbconvert_exporter": "python",
   "pygments_lexer": "ipython3",
   "version": "3.9.13"
  }
 },
 "nbformat": 4,
 "nbformat_minor": 5
}
