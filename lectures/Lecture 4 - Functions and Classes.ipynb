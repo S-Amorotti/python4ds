{
 "cells": [
  {
   "cell_type": "markdown",
   "id": "f58daea1",
   "metadata": {},
   "source": [
    "# Functions"
   ]
  },
  {
   "cell_type": "markdown",
   "id": "a1a13eb1",
   "metadata": {},
   "source": [
    "[In programming](https://en.wikipedia.org/wiki/Function_(computer_programming)), a function is a sequence of program instructions that performs a specific task, packaged as a unit. This unit can then be used in programs wherever that particular task should be performed. For instance, it may define a series of operations that are repeated throughout a certain program. As such, a function defines a sub-set of actions that are used by a bigger program.\n",
    "\n",
    "Let us begin with a simple example,"
   ]
  },
  {
   "cell_type": "code",
   "execution_count": 1,
   "id": "71e18fa4",
   "metadata": {},
   "outputs": [],
   "source": [
    "def greet_user():\n",
    "    \"\"\"Display a simple greeting\"\"\"\n",
    "    print(\"Hello!\")"
   ]
  },
  {
   "cell_type": "markdown",
   "id": "e22d4b6b",
   "metadata": {},
   "source": [
    "__Syntax Remark.__ Here, you defined the function ```greet_user```. This was done through the keyword ```def```, which indicates you are __declaring__ a function. You should use identation to indicate to Python's interpreter that the next idented block composes the function operations. The triple quotations define the __docstring__ of the function. It is the documentation of the function, which may be accessed through ```help()```,"
   ]
  },
  {
   "cell_type": "code",
   "execution_count": 4,
   "id": "5c208859",
   "metadata": {},
   "outputs": [
    {
     "name": "stdout",
     "output_type": "stream",
     "text": [
      "Help on function greet_user in module __main__:\n",
      "\n",
      "greet_user()\n",
      "    Display a simple greeting\n",
      "\n"
     ]
    }
   ],
   "source": [
    "help(greet_user)"
   ]
  },
  {
   "cell_type": "markdown",
   "id": "e9c59973",
   "metadata": {},
   "source": [
    "next, you may execute your function via __calling__ it,"
   ]
  },
  {
   "cell_type": "code",
   "execution_count": 5,
   "id": "ed9f1eaa",
   "metadata": {},
   "outputs": [
    {
     "name": "stdout",
     "output_type": "stream",
     "text": [
      "Hello!\n"
     ]
    }
   ],
   "source": [
    "greet_user()"
   ]
  },
  {
   "cell_type": "markdown",
   "id": "81761fe0",
   "metadata": {},
   "source": [
    "which, as you may notice, executes what's inside the idented block."
   ]
  },
  {
   "cell_type": "markdown",
   "id": "40da3bf2",
   "metadata": {},
   "source": [
    "## Function I/O"
   ]
  },
  {
   "cell_type": "markdown",
   "id": "5d7bf4cb",
   "metadata": {},
   "source": [
    "you can input information to functions via arguments. These are defined in the first line, for instance,"
   ]
  },
  {
   "cell_type": "code",
   "execution_count": 6,
   "id": "beb39c54",
   "metadata": {},
   "outputs": [],
   "source": [
    "def successor(n):\n",
    "    return n + 1"
   ]
  },
  {
   "cell_type": "markdown",
   "id": "d34be08b",
   "metadata": {},
   "source": [
    "here, $n$ is called the __parameter__ of successor.\n",
    "\n",
    "The outputs of functions are defined in the ```return``` statement. In this case, we are returning $n + 1$, i.e., the successor of $n$,"
   ]
  },
  {
   "cell_type": "code",
   "execution_count": 7,
   "id": "6171ffee",
   "metadata": {},
   "outputs": [
    {
     "data": {
      "text/plain": [
       "6"
      ]
     },
     "execution_count": 7,
     "metadata": {},
     "output_type": "execute_result"
    }
   ],
   "source": [
    "successor(5)"
   ]
  },
  {
   "cell_type": "markdown",
   "id": "a11ac886",
   "metadata": {},
   "source": [
    "__Jargon remark.__ The variable $n$ in successor is called the function's __parameter__, whereas $5$ is called __argument__. In short, __parameter__ is the variable, and __argument__ is a value."
   ]
  },
  {
   "cell_type": "markdown",
   "id": "6e19750b",
   "metadata": {},
   "source": [
    "### Passing arguments"
   ]
  },
  {
   "cell_type": "markdown",
   "id": "646f33e3",
   "metadata": {},
   "source": [
    "#### Positional Arguments"
   ]
  },
  {
   "cell_type": "markdown",
   "id": "9d1518a3",
   "metadata": {},
   "source": [
    "Functions may have many parameters. For instance, let's say you want to code,\n",
    "\n",
    "$$f(x, y) = xy^{2}$$"
   ]
  },
  {
   "cell_type": "code",
   "execution_count": 23,
   "id": "7799b09c",
   "metadata": {},
   "outputs": [],
   "source": [
    "def f(x, y):\n",
    "    return x * pow(y, 2)"
   ]
  },
  {
   "cell_type": "markdown",
   "id": "8ee8be27",
   "metadata": {},
   "source": [
    "You can call this function with any two values for $x$ and $y$. For instance, let $x = 2$ and $y = 3$,\n",
    "\n",
    "$$z = f(x, y) = 2 \\times 3^{2} = 18$$"
   ]
  },
  {
   "cell_type": "code",
   "execution_count": 24,
   "id": "4086bef9",
   "metadata": {},
   "outputs": [
    {
     "name": "stdout",
     "output_type": "stream",
     "text": [
      "18\n"
     ]
    }
   ],
   "source": [
    "z = f(2, 3)\n",
    "\n",
    "print(z)"
   ]
  },
  {
   "cell_type": "markdown",
   "id": "71e92d5d",
   "metadata": {},
   "source": [
    "If, otherwise $x = 3$ and $y = 2$,\n",
    "\n",
    "$$z = f(x, y) = 3 \\times 2^{2} = 12$$"
   ]
  },
  {
   "cell_type": "code",
   "execution_count": 25,
   "id": "feb37578",
   "metadata": {},
   "outputs": [
    {
     "name": "stdout",
     "output_type": "stream",
     "text": [
      "12\n"
     ]
    }
   ],
   "source": [
    "z = f(3, 2)\n",
    "\n",
    "print(z)"
   ]
  },
  {
   "cell_type": "markdown",
   "id": "5f3bdb58",
   "metadata": {},
   "source": [
    "note that, in this case, Python matches variables with values by __position__. This is called positional passing. Let us say you did not pass these positional arguments,"
   ]
  },
  {
   "cell_type": "code",
   "execution_count": 26,
   "id": "453a87fa",
   "metadata": {},
   "outputs": [
    {
     "ename": "TypeError",
     "evalue": "f() missing 2 required positional arguments: 'x' and 'y'",
     "output_type": "error",
     "traceback": [
      "\u001b[1;31m---------------------------------------------------------------------------\u001b[0m",
      "\u001b[1;31mTypeError\u001b[0m                                 Traceback (most recent call last)",
      "Cell \u001b[1;32mIn[26], line 1\u001b[0m\n\u001b[1;32m----> 1\u001b[0m \u001b[43mf\u001b[49m\u001b[43m(\u001b[49m\u001b[43m)\u001b[49m\n",
      "\u001b[1;31mTypeError\u001b[0m: f() missing 2 required positional arguments: 'x' and 'y'"
     ]
    }
   ],
   "source": [
    "f()"
   ]
  },
  {
   "cell_type": "markdown",
   "id": "23949c1c",
   "metadata": {},
   "source": [
    "here Python throws an error, indicating that $f$, as it was defined, needs 2 __positional arguments__. If you provide more than 2 arguments, it will throw an error as well,"
   ]
  },
  {
   "cell_type": "code",
   "execution_count": 27,
   "id": "97e24f30",
   "metadata": {},
   "outputs": [
    {
     "ename": "TypeError",
     "evalue": "f() takes 2 positional arguments but 3 were given",
     "output_type": "error",
     "traceback": [
      "\u001b[1;31m---------------------------------------------------------------------------\u001b[0m",
      "\u001b[1;31mTypeError\u001b[0m                                 Traceback (most recent call last)",
      "Cell \u001b[1;32mIn[27], line 1\u001b[0m\n\u001b[1;32m----> 1\u001b[0m \u001b[43mf\u001b[49m\u001b[43m(\u001b[49m\u001b[38;5;241;43m1\u001b[39;49m\u001b[43m,\u001b[49m\u001b[43m \u001b[49m\u001b[38;5;241;43m2\u001b[39;49m\u001b[43m,\u001b[49m\u001b[43m \u001b[49m\u001b[38;5;241;43m3\u001b[39;49m\u001b[43m)\u001b[49m\n",
      "\u001b[1;31mTypeError\u001b[0m: f() takes 2 positional arguments but 3 were given"
     ]
    }
   ],
   "source": [
    "f(1, 2, 3)"
   ]
  },
  {
   "cell_type": "markdown",
   "id": "972e7939",
   "metadata": {},
   "source": [
    "#### Keyword Arguments"
   ]
  },
  {
   "cell_type": "markdown",
   "id": "dbb1c91b",
   "metadata": {},
   "source": [
    "A second way you can pass arguments is through keywords. In this case, you indicate the name of the variable when passing to the function,"
   ]
  },
  {
   "cell_type": "code",
   "execution_count": 17,
   "id": "30875674",
   "metadata": {},
   "outputs": [
    {
     "name": "stdout",
     "output_type": "stream",
     "text": [
      "12\n"
     ]
    }
   ],
   "source": [
    "z = f(x=3, y=2)\n",
    "\n",
    "print(z)"
   ]
  },
  {
   "cell_type": "markdown",
   "id": "21f8b32a",
   "metadata": {},
   "source": [
    "when passing arguments through keywords, order does not matter,"
   ]
  },
  {
   "cell_type": "code",
   "execution_count": 18,
   "id": "264eb7a1",
   "metadata": {},
   "outputs": [
    {
     "name": "stdout",
     "output_type": "stream",
     "text": [
      "12\n"
     ]
    }
   ],
   "source": [
    "z = f(y=2, x=3)\n",
    "\n",
    "print(z)"
   ]
  },
  {
   "cell_type": "markdown",
   "id": "7a0a7b2a",
   "metadata": {},
   "source": [
    "__Note.__ If you provide a keyword that is not present in the function definition, Python will throw an error as well,"
   ]
  },
  {
   "cell_type": "code",
   "execution_count": 28,
   "id": "962d3813",
   "metadata": {},
   "outputs": [
    {
     "ename": "TypeError",
     "evalue": "f() got an unexpected keyword argument 'z'",
     "output_type": "error",
     "traceback": [
      "\u001b[1;31m---------------------------------------------------------------------------\u001b[0m",
      "\u001b[1;31mTypeError\u001b[0m                                 Traceback (most recent call last)",
      "Cell \u001b[1;32mIn[28], line 1\u001b[0m\n\u001b[1;32m----> 1\u001b[0m z \u001b[38;5;241m=\u001b[39m \u001b[43mf\u001b[49m\u001b[43m(\u001b[49m\u001b[43mx\u001b[49m\u001b[38;5;241;43m=\u001b[39;49m\u001b[38;5;241;43m2\u001b[39;49m\u001b[43m,\u001b[49m\u001b[43m \u001b[49m\u001b[43my\u001b[49m\u001b[38;5;241;43m=\u001b[39;49m\u001b[38;5;241;43m3\u001b[39;49m\u001b[43m,\u001b[49m\u001b[43m \u001b[49m\u001b[43mz\u001b[49m\u001b[38;5;241;43m=\u001b[39;49m\u001b[38;5;241;43m3\u001b[39;49m\u001b[43m)\u001b[49m\n",
      "\u001b[1;31mTypeError\u001b[0m: f() got an unexpected keyword argument 'z'"
     ]
    }
   ],
   "source": [
    "z = f(x=2, y=3, z=3)"
   ]
  },
  {
   "cell_type": "markdown",
   "id": "517f7c11",
   "metadata": {},
   "source": [
    "#### Default Values"
   ]
  },
  {
   "cell_type": "markdown",
   "id": "7132beba",
   "metadata": {},
   "source": [
    "In Python, you may easily define default values for variables:"
   ]
  },
  {
   "cell_type": "code",
   "execution_count": 19,
   "id": "096eeff0",
   "metadata": {},
   "outputs": [],
   "source": [
    "def f(x, y=2):\n",
    "    return x * pow(y, 2)"
   ]
  },
  {
   "cell_type": "code",
   "execution_count": 20,
   "id": "5af6abc4",
   "metadata": {},
   "outputs": [
    {
     "name": "stdout",
     "output_type": "stream",
     "text": [
      "20\n"
     ]
    }
   ],
   "source": [
    "z = f(5)\n",
    "\n",
    "print(z)"
   ]
  },
  {
   "cell_type": "markdown",
   "id": "14b88dd2",
   "metadata": {},
   "source": [
    "here, since you did not pass the value of $y$, Python takes the default $y := 2$. However, $x$ is still required, as shown below,"
   ]
  },
  {
   "cell_type": "code",
   "execution_count": 21,
   "id": "b7d6f3d9",
   "metadata": {},
   "outputs": [
    {
     "ename": "TypeError",
     "evalue": "f() missing 1 required positional argument: 'x'",
     "output_type": "error",
     "traceback": [
      "\u001b[1;31m---------------------------------------------------------------------------\u001b[0m",
      "\u001b[1;31mTypeError\u001b[0m                                 Traceback (most recent call last)",
      "Cell \u001b[1;32mIn[21], line 1\u001b[0m\n\u001b[1;32m----> 1\u001b[0m z \u001b[38;5;241m=\u001b[39m \u001b[43mf\u001b[49m\u001b[43m(\u001b[49m\u001b[43m)\u001b[49m\n",
      "\u001b[1;31mTypeError\u001b[0m: f() missing 1 required positional argument: 'x'"
     ]
    }
   ],
   "source": [
    "z = f()"
   ]
  },
  {
   "cell_type": "markdown",
   "id": "1758840f",
   "metadata": {},
   "source": [
    "note here that, since $y := 2$ by default, Python only requires __one__ positional argument."
   ]
  },
  {
   "cell_type": "markdown",
   "id": "a732c58e",
   "metadata": {},
   "source": [
    "#### Returning multiple values"
   ]
  },
  {
   "cell_type": "markdown",
   "id": "81e25bf7",
   "metadata": {},
   "source": [
    "Let's say you want to implement,\n",
    "\n",
    "$$f(x, y) = \\biggr{(}\\frac{x}{x^{2}+y^{2}}, \\frac{y}{x^{2}+y^{2}}\\biggr{)}$$\n",
    "\n",
    "here, you need to return 2 values, corresponding to the 1st and 2nd components of the result vector. Python supports returning both values,"
   ]
  },
  {
   "cell_type": "code",
   "execution_count": 29,
   "id": "b6320dba",
   "metadata": {},
   "outputs": [],
   "source": [
    "def f(x, y):\n",
    "    r = pow(x, 2) + pow(y, 2)\n",
    "    u = x / r\n",
    "    v = y / r\n",
    "    \n",
    "    return u, v"
   ]
  },
  {
   "cell_type": "code",
   "execution_count": 32,
   "id": "0cc84667",
   "metadata": {},
   "outputs": [
    {
     "name": "stdout",
     "output_type": "stream",
     "text": [
      "(0.1724137931034483, 0.06896551724137931)\n"
     ]
    }
   ],
   "source": [
    "values = f(5, 2)\n",
    "\n",
    "print(values)"
   ]
  },
  {
   "cell_type": "markdown",
   "id": "e039a069",
   "metadata": {},
   "source": [
    "__Note.__ When returning multiple values, Python interprets the group of values by default as a tuple,"
   ]
  },
  {
   "cell_type": "code",
   "execution_count": 31,
   "id": "0fb16c8a",
   "metadata": {},
   "outputs": [
    {
     "data": {
      "text/plain": [
       "tuple"
      ]
     },
     "execution_count": 31,
     "metadata": {},
     "output_type": "execute_result"
    }
   ],
   "source": [
    "type(values)"
   ]
  },
  {
   "cell_type": "markdown",
   "id": "d41e8b1c",
   "metadata": {},
   "source": [
    "you could, instead, use a list,"
   ]
  },
  {
   "cell_type": "code",
   "execution_count": 33,
   "id": "9c94a54d",
   "metadata": {},
   "outputs": [],
   "source": [
    "def f(x, y):\n",
    "    r = pow(x, 2) + pow(y, 2)\n",
    "    u = x / r\n",
    "    v = y / r\n",
    "    \n",
    "    return [u, v]"
   ]
  },
  {
   "cell_type": "code",
   "execution_count": 37,
   "id": "e42ec419",
   "metadata": {},
   "outputs": [
    {
     "name": "stdout",
     "output_type": "stream",
     "text": [
      "[0.1724137931034483, 0.06896551724137931]\n"
     ]
    }
   ],
   "source": [
    "values = f(5, 2)\n",
    "\n",
    "print(values)"
   ]
  },
  {
   "cell_type": "code",
   "execution_count": 36,
   "id": "614884e1",
   "metadata": {},
   "outputs": [
    {
     "data": {
      "text/plain": [
       "list"
      ]
     },
     "execution_count": 36,
     "metadata": {},
     "output_type": "execute_result"
    }
   ],
   "source": [
    "type(values)"
   ]
  },
  {
   "cell_type": "markdown",
   "id": "766a9bf3",
   "metadata": {},
   "source": [
    "in either case you can retrieve the values of $u$ and $v$ directly,"
   ]
  },
  {
   "cell_type": "code",
   "execution_count": 39,
   "id": "a26ca1bb",
   "metadata": {},
   "outputs": [
    {
     "name": "stdout",
     "output_type": "stream",
     "text": [
      "0.1724137931034483 0.06896551724137931\n"
     ]
    }
   ],
   "source": [
    "u, v = f(5, 2)\n",
    "\n",
    "print(u, v)"
   ]
  },
  {
   "cell_type": "markdown",
   "id": "bfcb3899",
   "metadata": {},
   "source": [
    "### Receiving arguments through lists and dictionaries"
   ]
  },
  {
   "cell_type": "markdown",
   "id": "b4e2b797",
   "metadata": {},
   "source": [
    "If your function accepts multiple parameters, you can pass them through a list. For instance,"
   ]
  },
  {
   "cell_type": "code",
   "execution_count": 41,
   "id": "53a9eafd",
   "metadata": {},
   "outputs": [
    {
     "name": "stdout",
     "output_type": "stream",
     "text": [
      "[0.1724137931034483, 0.06896551724137931]\n"
     ]
    }
   ],
   "source": [
    "input_vector = [5, 2]\n",
    "output_vector = f(*input_vector)\n",
    "\n",
    "print(output_vector)"
   ]
  },
  {
   "cell_type": "markdown",
   "id": "053ff052",
   "metadata": {},
   "source": [
    "the ```*``` symbol indicates to Python that it should __unpack__ the values in the list ```input_vector```. The same could be applied to print,"
   ]
  },
  {
   "cell_type": "code",
   "execution_count": 42,
   "id": "680fc2f9",
   "metadata": {},
   "outputs": [
    {
     "name": "stdout",
     "output_type": "stream",
     "text": [
      "0.1724137931034483 0.06896551724137931\n"
     ]
    }
   ],
   "source": [
    "print(*output_vector)"
   ]
  },
  {
   "cell_type": "markdown",
   "id": "f07a5d67",
   "metadata": {},
   "source": [
    "this is useful when the values in ```input_vector``` is aligned with the positional arguments of $f$. Otherwise, you could use a dictionary to pass keyword arguments,"
   ]
  },
  {
   "cell_type": "code",
   "execution_count": 43,
   "id": "c7f440ff",
   "metadata": {},
   "outputs": [
    {
     "name": "stdout",
     "output_type": "stream",
     "text": [
      "[0.1724137931034483, 0.06896551724137931]\n"
     ]
    }
   ],
   "source": [
    "input_dictionary = {'x': 5, 'y': 2}\n",
    "output_vector = f(**input_dictionary)\n",
    "\n",
    "print(output_vector)"
   ]
  },
  {
   "cell_type": "markdown",
   "id": "acf54f5c",
   "metadata": {},
   "source": [
    "here, Python uses ```**``` to unpack the dictionary."
   ]
  },
  {
   "cell_type": "code",
   "execution_count": null,
   "id": "a446f824",
   "metadata": {},
   "outputs": [],
   "source": []
  }
 ],
 "metadata": {
  "kernelspec": {
   "display_name": "Python 3 (ipykernel)",
   "language": "python",
   "name": "python3"
  },
  "language_info": {
   "codemirror_mode": {
    "name": "ipython",
    "version": 3
   },
   "file_extension": ".py",
   "mimetype": "text/x-python",
   "name": "python",
   "nbconvert_exporter": "python",
   "pygments_lexer": "ipython3",
   "version": "3.8.15"
  }
 },
 "nbformat": 4,
 "nbformat_minor": 5
}
